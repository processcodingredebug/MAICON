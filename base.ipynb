{
  "cells": [
    {
      "cell_type": "markdown",
      "source": [
        "[주차 수요 예측 AI 경진대회](https://dacon.io/competitions/official/235745/overview/description)\n",
        "\n",
        "Baseline을 정리한 코드이다. Colab 환경이다."
      ],
      "metadata": {
        "id": "HCiQdXH9b6wo"
      }
    },
    {
      "cell_type": "code",
      "source": [
        "from google.colab import drive\n",
        "drive.mount('/content/drive')"
      ],
      "metadata": {
        "colab": {
          "base_uri": "https://localhost:8080/"
        },
        "id": "Ms9dTCjhUcRP",
        "outputId": "29344b15-72c6-49f7-f271-37d6768b74c9"
      },
      "execution_count": 2,
      "outputs": [
        {
          "output_type": "stream",
          "name": "stdout",
          "text": [
            "Mounted at /content/drive\n"
          ]
        }
      ]
    },
    {
      "cell_type": "code",
      "source": [
        "%cd '/content/drive/MyDrive/연습'"
      ],
      "metadata": {
        "colab": {
          "base_uri": "https://localhost:8080/"
        },
        "id": "BpyVyn1qUWYt",
        "outputId": "03c1fcef-d886-4fff-98ad-81ba15a0dbac"
      },
      "execution_count": 3,
      "outputs": [
        {
          "output_type": "stream",
          "name": "stdout",
          "text": [
            "/content/drive/MyDrive/연습\n"
          ]
        }
      ]
    },
    {
      "cell_type": "markdown",
      "metadata": {
        "id": "NPIJMJodUUKH"
      },
      "source": [
        "## 패키지"
      ]
    },
    {
      "cell_type": "code",
      "execution_count": 4,
      "metadata": {
        "id": "-75To8NGUUKK"
      },
      "outputs": [],
      "source": [
        "import pandas as pd\n",
        "import numpy as np\n",
        "from sklearn.ensemble import RandomForestRegressor\n",
        "from tqdm import tqdm"
      ]
    },
    {
      "cell_type": "markdown",
      "metadata": {
        "id": "YeVNr-_vUUKL"
      },
      "source": [
        "## 데이터"
      ]
    },
    {
      "cell_type": "code",
      "execution_count": 5,
      "metadata": {
        "id": "WMfKynMgUUKM"
      },
      "outputs": [],
      "source": [
        "train = pd.read_csv('./train.csv')\n",
        "test = pd.read_csv('./test.csv')\n",
        "submission = pd.read_csv('./sample_submission.csv')"
      ]
    },
    {
      "cell_type": "code",
      "execution_count": 6,
      "metadata": {
        "colab": {
          "base_uri": "https://localhost:8080/"
        },
        "id": "z61u7eNSUUKM",
        "outputId": "fda36971-9e9a-4215-a9f4-b4c848e6f5df"
      },
      "outputs": [
        {
          "output_type": "execute_result",
          "data": {
            "text/plain": [
              "((2952, 15), (1022, 14))"
            ]
          },
          "metadata": {},
          "execution_count": 6
        }
      ],
      "source": [
        "train.shape, test.shape"
      ]
    },
    {
      "cell_type": "code",
      "execution_count": 7,
      "metadata": {
        "colab": {
          "base_uri": "https://localhost:8080/",
          "height": 597
        },
        "id": "MIWtgLh9UUKN",
        "outputId": "69f9e0f7-0690-4314-e305-7483c5333f35"
      },
      "outputs": [
        {
          "output_type": "execute_result",
          "data": {
            "text/plain": [
              "    단지코드  총세대수 임대건물구분    지역  공급유형   전용면적  전용면적별세대수   공가수 자격유형     임대보증금  \\\n",
              "0  C2483   900    아파트  경상북도  국민임대  39.72       134  38.0    A  15667000   \n",
              "1  C2483   900    아파트  경상북도  국민임대  39.72        15  38.0    A  15667000   \n",
              "2  C2483   900    아파트  경상북도  국민임대  51.93       385  38.0    A  27304000   \n",
              "3  C2483   900    아파트  경상북도  국민임대  51.93        15  38.0    A  27304000   \n",
              "4  C2483   900    아파트  경상북도  국민임대  51.93        41  38.0    A  27304000   \n",
              "\n",
              "      임대료  도보 10분거리 내 지하철역 수(환승노선 수 반영)  도보 10분거리 내 버스정류장 수  단지내주차면수   등록차량수  \n",
              "0  103680                           0.0                 3.0   1425.0  1015.0  \n",
              "1  103680                           0.0                 3.0   1425.0  1015.0  \n",
              "2  184330                           0.0                 3.0   1425.0  1015.0  \n",
              "3  184330                           0.0                 3.0   1425.0  1015.0  \n",
              "4  184330                           0.0                 3.0   1425.0  1015.0  "
            ],
            "text/html": [
              "\n",
              "  <div id=\"df-0ac37d07-2149-4b8f-9e0e-4b5caa7c14e4\">\n",
              "    <div class=\"colab-df-container\">\n",
              "      <div>\n",
              "<style scoped>\n",
              "    .dataframe tbody tr th:only-of-type {\n",
              "        vertical-align: middle;\n",
              "    }\n",
              "\n",
              "    .dataframe tbody tr th {\n",
              "        vertical-align: top;\n",
              "    }\n",
              "\n",
              "    .dataframe thead th {\n",
              "        text-align: right;\n",
              "    }\n",
              "</style>\n",
              "<table border=\"1\" class=\"dataframe\">\n",
              "  <thead>\n",
              "    <tr style=\"text-align: right;\">\n",
              "      <th></th>\n",
              "      <th>단지코드</th>\n",
              "      <th>총세대수</th>\n",
              "      <th>임대건물구분</th>\n",
              "      <th>지역</th>\n",
              "      <th>공급유형</th>\n",
              "      <th>전용면적</th>\n",
              "      <th>전용면적별세대수</th>\n",
              "      <th>공가수</th>\n",
              "      <th>자격유형</th>\n",
              "      <th>임대보증금</th>\n",
              "      <th>임대료</th>\n",
              "      <th>도보 10분거리 내 지하철역 수(환승노선 수 반영)</th>\n",
              "      <th>도보 10분거리 내 버스정류장 수</th>\n",
              "      <th>단지내주차면수</th>\n",
              "      <th>등록차량수</th>\n",
              "    </tr>\n",
              "  </thead>\n",
              "  <tbody>\n",
              "    <tr>\n",
              "      <th>0</th>\n",
              "      <td>C2483</td>\n",
              "      <td>900</td>\n",
              "      <td>아파트</td>\n",
              "      <td>경상북도</td>\n",
              "      <td>국민임대</td>\n",
              "      <td>39.72</td>\n",
              "      <td>134</td>\n",
              "      <td>38.0</td>\n",
              "      <td>A</td>\n",
              "      <td>15667000</td>\n",
              "      <td>103680</td>\n",
              "      <td>0.0</td>\n",
              "      <td>3.0</td>\n",
              "      <td>1425.0</td>\n",
              "      <td>1015.0</td>\n",
              "    </tr>\n",
              "    <tr>\n",
              "      <th>1</th>\n",
              "      <td>C2483</td>\n",
              "      <td>900</td>\n",
              "      <td>아파트</td>\n",
              "      <td>경상북도</td>\n",
              "      <td>국민임대</td>\n",
              "      <td>39.72</td>\n",
              "      <td>15</td>\n",
              "      <td>38.0</td>\n",
              "      <td>A</td>\n",
              "      <td>15667000</td>\n",
              "      <td>103680</td>\n",
              "      <td>0.0</td>\n",
              "      <td>3.0</td>\n",
              "      <td>1425.0</td>\n",
              "      <td>1015.0</td>\n",
              "    </tr>\n",
              "    <tr>\n",
              "      <th>2</th>\n",
              "      <td>C2483</td>\n",
              "      <td>900</td>\n",
              "      <td>아파트</td>\n",
              "      <td>경상북도</td>\n",
              "      <td>국민임대</td>\n",
              "      <td>51.93</td>\n",
              "      <td>385</td>\n",
              "      <td>38.0</td>\n",
              "      <td>A</td>\n",
              "      <td>27304000</td>\n",
              "      <td>184330</td>\n",
              "      <td>0.0</td>\n",
              "      <td>3.0</td>\n",
              "      <td>1425.0</td>\n",
              "      <td>1015.0</td>\n",
              "    </tr>\n",
              "    <tr>\n",
              "      <th>3</th>\n",
              "      <td>C2483</td>\n",
              "      <td>900</td>\n",
              "      <td>아파트</td>\n",
              "      <td>경상북도</td>\n",
              "      <td>국민임대</td>\n",
              "      <td>51.93</td>\n",
              "      <td>15</td>\n",
              "      <td>38.0</td>\n",
              "      <td>A</td>\n",
              "      <td>27304000</td>\n",
              "      <td>184330</td>\n",
              "      <td>0.0</td>\n",
              "      <td>3.0</td>\n",
              "      <td>1425.0</td>\n",
              "      <td>1015.0</td>\n",
              "    </tr>\n",
              "    <tr>\n",
              "      <th>4</th>\n",
              "      <td>C2483</td>\n",
              "      <td>900</td>\n",
              "      <td>아파트</td>\n",
              "      <td>경상북도</td>\n",
              "      <td>국민임대</td>\n",
              "      <td>51.93</td>\n",
              "      <td>41</td>\n",
              "      <td>38.0</td>\n",
              "      <td>A</td>\n",
              "      <td>27304000</td>\n",
              "      <td>184330</td>\n",
              "      <td>0.0</td>\n",
              "      <td>3.0</td>\n",
              "      <td>1425.0</td>\n",
              "      <td>1015.0</td>\n",
              "    </tr>\n",
              "  </tbody>\n",
              "</table>\n",
              "</div>\n",
              "      <button class=\"colab-df-convert\" onclick=\"convertToInteractive('df-0ac37d07-2149-4b8f-9e0e-4b5caa7c14e4')\"\n",
              "              title=\"Convert this dataframe to an interactive table.\"\n",
              "              style=\"display:none;\">\n",
              "        \n",
              "  <svg xmlns=\"http://www.w3.org/2000/svg\" height=\"24px\"viewBox=\"0 0 24 24\"\n",
              "       width=\"24px\">\n",
              "    <path d=\"M0 0h24v24H0V0z\" fill=\"none\"/>\n",
              "    <path d=\"M18.56 5.44l.94 2.06.94-2.06 2.06-.94-2.06-.94-.94-2.06-.94 2.06-2.06.94zm-11 1L8.5 8.5l.94-2.06 2.06-.94-2.06-.94L8.5 2.5l-.94 2.06-2.06.94zm10 10l.94 2.06.94-2.06 2.06-.94-2.06-.94-.94-2.06-.94 2.06-2.06.94z\"/><path d=\"M17.41 7.96l-1.37-1.37c-.4-.4-.92-.59-1.43-.59-.52 0-1.04.2-1.43.59L10.3 9.45l-7.72 7.72c-.78.78-.78 2.05 0 2.83L4 21.41c.39.39.9.59 1.41.59.51 0 1.02-.2 1.41-.59l7.78-7.78 2.81-2.81c.8-.78.8-2.07 0-2.86zM5.41 20L4 18.59l7.72-7.72 1.47 1.35L5.41 20z\"/>\n",
              "  </svg>\n",
              "      </button>\n",
              "      \n",
              "  <style>\n",
              "    .colab-df-container {\n",
              "      display:flex;\n",
              "      flex-wrap:wrap;\n",
              "      gap: 12px;\n",
              "    }\n",
              "\n",
              "    .colab-df-convert {\n",
              "      background-color: #E8F0FE;\n",
              "      border: none;\n",
              "      border-radius: 50%;\n",
              "      cursor: pointer;\n",
              "      display: none;\n",
              "      fill: #1967D2;\n",
              "      height: 32px;\n",
              "      padding: 0 0 0 0;\n",
              "      width: 32px;\n",
              "    }\n",
              "\n",
              "    .colab-df-convert:hover {\n",
              "      background-color: #E2EBFA;\n",
              "      box-shadow: 0px 1px 2px rgba(60, 64, 67, 0.3), 0px 1px 3px 1px rgba(60, 64, 67, 0.15);\n",
              "      fill: #174EA6;\n",
              "    }\n",
              "\n",
              "    [theme=dark] .colab-df-convert {\n",
              "      background-color: #3B4455;\n",
              "      fill: #D2E3FC;\n",
              "    }\n",
              "\n",
              "    [theme=dark] .colab-df-convert:hover {\n",
              "      background-color: #434B5C;\n",
              "      box-shadow: 0px 1px 3px 1px rgba(0, 0, 0, 0.15);\n",
              "      filter: drop-shadow(0px 1px 2px rgba(0, 0, 0, 0.3));\n",
              "      fill: #FFFFFF;\n",
              "    }\n",
              "  </style>\n",
              "\n",
              "      <script>\n",
              "        const buttonEl =\n",
              "          document.querySelector('#df-0ac37d07-2149-4b8f-9e0e-4b5caa7c14e4 button.colab-df-convert');\n",
              "        buttonEl.style.display =\n",
              "          google.colab.kernel.accessAllowed ? 'block' : 'none';\n",
              "\n",
              "        async function convertToInteractive(key) {\n",
              "          const element = document.querySelector('#df-0ac37d07-2149-4b8f-9e0e-4b5caa7c14e4');\n",
              "          const dataTable =\n",
              "            await google.colab.kernel.invokeFunction('convertToInteractive',\n",
              "                                                     [key], {});\n",
              "          if (!dataTable) return;\n",
              "\n",
              "          const docLinkHtml = 'Like what you see? Visit the ' +\n",
              "            '<a target=\"_blank\" href=https://colab.research.google.com/notebooks/data_table.ipynb>data table notebook</a>'\n",
              "            + ' to learn more about interactive tables.';\n",
              "          element.innerHTML = '';\n",
              "          dataTable['output_type'] = 'display_data';\n",
              "          await google.colab.output.renderOutput(dataTable, element);\n",
              "          const docLink = document.createElement('div');\n",
              "          docLink.innerHTML = docLinkHtml;\n",
              "          element.appendChild(docLink);\n",
              "        }\n",
              "      </script>\n",
              "    </div>\n",
              "  </div>\n",
              "  "
            ]
          },
          "metadata": {},
          "execution_count": 7
        }
      ],
      "source": [
        "train.head()"
      ]
    },
    {
      "cell_type": "code",
      "execution_count": 8,
      "metadata": {
        "colab": {
          "base_uri": "https://localhost:8080/",
          "height": 580
        },
        "id": "smqEjPJEUUKN",
        "outputId": "99bba8f1-1b32-4225-8789-690cc73640d6"
      },
      "outputs": [
        {
          "output_type": "execute_result",
          "data": {
            "text/plain": [
              "    단지코드  총세대수 임대건물구분   지역  공급유형   전용면적  전용면적별세대수   공가수 자격유형     임대보증금  \\\n",
              "0  C1072   754    아파트  경기도  국민임대  39.79       116  14.0    H  22830000   \n",
              "1  C1072   754    아파트  경기도  국민임대  46.81        30  14.0    A  36048000   \n",
              "2  C1072   754    아파트  경기도  국민임대  46.90       112  14.0    H  36048000   \n",
              "3  C1072   754    아파트  경기도  국민임대  46.90       120  14.0    H  36048000   \n",
              "4  C1072   754    아파트  경기도  국민임대  51.46        60  14.0    H  43497000   \n",
              "\n",
              "      임대료  도보 10분거리 내 지하철역 수(환승노선 수 반영)  도보 10분거리 내 버스정류장 수  단지내주차면수  \n",
              "0  189840                           0.0                 2.0    683.0  \n",
              "1  249930                           0.0                 2.0    683.0  \n",
              "2  249930                           0.0                 2.0    683.0  \n",
              "3  249930                           0.0                 2.0    683.0  \n",
              "4  296780                           0.0                 2.0    683.0  "
            ],
            "text/html": [
              "\n",
              "  <div id=\"df-b2e2206b-3728-414d-854a-637e0a7fdb8e\">\n",
              "    <div class=\"colab-df-container\">\n",
              "      <div>\n",
              "<style scoped>\n",
              "    .dataframe tbody tr th:only-of-type {\n",
              "        vertical-align: middle;\n",
              "    }\n",
              "\n",
              "    .dataframe tbody tr th {\n",
              "        vertical-align: top;\n",
              "    }\n",
              "\n",
              "    .dataframe thead th {\n",
              "        text-align: right;\n",
              "    }\n",
              "</style>\n",
              "<table border=\"1\" class=\"dataframe\">\n",
              "  <thead>\n",
              "    <tr style=\"text-align: right;\">\n",
              "      <th></th>\n",
              "      <th>단지코드</th>\n",
              "      <th>총세대수</th>\n",
              "      <th>임대건물구분</th>\n",
              "      <th>지역</th>\n",
              "      <th>공급유형</th>\n",
              "      <th>전용면적</th>\n",
              "      <th>전용면적별세대수</th>\n",
              "      <th>공가수</th>\n",
              "      <th>자격유형</th>\n",
              "      <th>임대보증금</th>\n",
              "      <th>임대료</th>\n",
              "      <th>도보 10분거리 내 지하철역 수(환승노선 수 반영)</th>\n",
              "      <th>도보 10분거리 내 버스정류장 수</th>\n",
              "      <th>단지내주차면수</th>\n",
              "    </tr>\n",
              "  </thead>\n",
              "  <tbody>\n",
              "    <tr>\n",
              "      <th>0</th>\n",
              "      <td>C1072</td>\n",
              "      <td>754</td>\n",
              "      <td>아파트</td>\n",
              "      <td>경기도</td>\n",
              "      <td>국민임대</td>\n",
              "      <td>39.79</td>\n",
              "      <td>116</td>\n",
              "      <td>14.0</td>\n",
              "      <td>H</td>\n",
              "      <td>22830000</td>\n",
              "      <td>189840</td>\n",
              "      <td>0.0</td>\n",
              "      <td>2.0</td>\n",
              "      <td>683.0</td>\n",
              "    </tr>\n",
              "    <tr>\n",
              "      <th>1</th>\n",
              "      <td>C1072</td>\n",
              "      <td>754</td>\n",
              "      <td>아파트</td>\n",
              "      <td>경기도</td>\n",
              "      <td>국민임대</td>\n",
              "      <td>46.81</td>\n",
              "      <td>30</td>\n",
              "      <td>14.0</td>\n",
              "      <td>A</td>\n",
              "      <td>36048000</td>\n",
              "      <td>249930</td>\n",
              "      <td>0.0</td>\n",
              "      <td>2.0</td>\n",
              "      <td>683.0</td>\n",
              "    </tr>\n",
              "    <tr>\n",
              "      <th>2</th>\n",
              "      <td>C1072</td>\n",
              "      <td>754</td>\n",
              "      <td>아파트</td>\n",
              "      <td>경기도</td>\n",
              "      <td>국민임대</td>\n",
              "      <td>46.90</td>\n",
              "      <td>112</td>\n",
              "      <td>14.0</td>\n",
              "      <td>H</td>\n",
              "      <td>36048000</td>\n",
              "      <td>249930</td>\n",
              "      <td>0.0</td>\n",
              "      <td>2.0</td>\n",
              "      <td>683.0</td>\n",
              "    </tr>\n",
              "    <tr>\n",
              "      <th>3</th>\n",
              "      <td>C1072</td>\n",
              "      <td>754</td>\n",
              "      <td>아파트</td>\n",
              "      <td>경기도</td>\n",
              "      <td>국민임대</td>\n",
              "      <td>46.90</td>\n",
              "      <td>120</td>\n",
              "      <td>14.0</td>\n",
              "      <td>H</td>\n",
              "      <td>36048000</td>\n",
              "      <td>249930</td>\n",
              "      <td>0.0</td>\n",
              "      <td>2.0</td>\n",
              "      <td>683.0</td>\n",
              "    </tr>\n",
              "    <tr>\n",
              "      <th>4</th>\n",
              "      <td>C1072</td>\n",
              "      <td>754</td>\n",
              "      <td>아파트</td>\n",
              "      <td>경기도</td>\n",
              "      <td>국민임대</td>\n",
              "      <td>51.46</td>\n",
              "      <td>60</td>\n",
              "      <td>14.0</td>\n",
              "      <td>H</td>\n",
              "      <td>43497000</td>\n",
              "      <td>296780</td>\n",
              "      <td>0.0</td>\n",
              "      <td>2.0</td>\n",
              "      <td>683.0</td>\n",
              "    </tr>\n",
              "  </tbody>\n",
              "</table>\n",
              "</div>\n",
              "      <button class=\"colab-df-convert\" onclick=\"convertToInteractive('df-b2e2206b-3728-414d-854a-637e0a7fdb8e')\"\n",
              "              title=\"Convert this dataframe to an interactive table.\"\n",
              "              style=\"display:none;\">\n",
              "        \n",
              "  <svg xmlns=\"http://www.w3.org/2000/svg\" height=\"24px\"viewBox=\"0 0 24 24\"\n",
              "       width=\"24px\">\n",
              "    <path d=\"M0 0h24v24H0V0z\" fill=\"none\"/>\n",
              "    <path d=\"M18.56 5.44l.94 2.06.94-2.06 2.06-.94-2.06-.94-.94-2.06-.94 2.06-2.06.94zm-11 1L8.5 8.5l.94-2.06 2.06-.94-2.06-.94L8.5 2.5l-.94 2.06-2.06.94zm10 10l.94 2.06.94-2.06 2.06-.94-2.06-.94-.94-2.06-.94 2.06-2.06.94z\"/><path d=\"M17.41 7.96l-1.37-1.37c-.4-.4-.92-.59-1.43-.59-.52 0-1.04.2-1.43.59L10.3 9.45l-7.72 7.72c-.78.78-.78 2.05 0 2.83L4 21.41c.39.39.9.59 1.41.59.51 0 1.02-.2 1.41-.59l7.78-7.78 2.81-2.81c.8-.78.8-2.07 0-2.86zM5.41 20L4 18.59l7.72-7.72 1.47 1.35L5.41 20z\"/>\n",
              "  </svg>\n",
              "      </button>\n",
              "      \n",
              "  <style>\n",
              "    .colab-df-container {\n",
              "      display:flex;\n",
              "      flex-wrap:wrap;\n",
              "      gap: 12px;\n",
              "    }\n",
              "\n",
              "    .colab-df-convert {\n",
              "      background-color: #E8F0FE;\n",
              "      border: none;\n",
              "      border-radius: 50%;\n",
              "      cursor: pointer;\n",
              "      display: none;\n",
              "      fill: #1967D2;\n",
              "      height: 32px;\n",
              "      padding: 0 0 0 0;\n",
              "      width: 32px;\n",
              "    }\n",
              "\n",
              "    .colab-df-convert:hover {\n",
              "      background-color: #E2EBFA;\n",
              "      box-shadow: 0px 1px 2px rgba(60, 64, 67, 0.3), 0px 1px 3px 1px rgba(60, 64, 67, 0.15);\n",
              "      fill: #174EA6;\n",
              "    }\n",
              "\n",
              "    [theme=dark] .colab-df-convert {\n",
              "      background-color: #3B4455;\n",
              "      fill: #D2E3FC;\n",
              "    }\n",
              "\n",
              "    [theme=dark] .colab-df-convert:hover {\n",
              "      background-color: #434B5C;\n",
              "      box-shadow: 0px 1px 3px 1px rgba(0, 0, 0, 0.15);\n",
              "      filter: drop-shadow(0px 1px 2px rgba(0, 0, 0, 0.3));\n",
              "      fill: #FFFFFF;\n",
              "    }\n",
              "  </style>\n",
              "\n",
              "      <script>\n",
              "        const buttonEl =\n",
              "          document.querySelector('#df-b2e2206b-3728-414d-854a-637e0a7fdb8e button.colab-df-convert');\n",
              "        buttonEl.style.display =\n",
              "          google.colab.kernel.accessAllowed ? 'block' : 'none';\n",
              "\n",
              "        async function convertToInteractive(key) {\n",
              "          const element = document.querySelector('#df-b2e2206b-3728-414d-854a-637e0a7fdb8e');\n",
              "          const dataTable =\n",
              "            await google.colab.kernel.invokeFunction('convertToInteractive',\n",
              "                                                     [key], {});\n",
              "          if (!dataTable) return;\n",
              "\n",
              "          const docLinkHtml = 'Like what you see? Visit the ' +\n",
              "            '<a target=\"_blank\" href=https://colab.research.google.com/notebooks/data_table.ipynb>data table notebook</a>'\n",
              "            + ' to learn more about interactive tables.';\n",
              "          element.innerHTML = '';\n",
              "          dataTable['output_type'] = 'display_data';\n",
              "          await google.colab.output.renderOutput(dataTable, element);\n",
              "          const docLink = document.createElement('div');\n",
              "          docLink.innerHTML = docLinkHtml;\n",
              "          element.appendChild(docLink);\n",
              "        }\n",
              "      </script>\n",
              "    </div>\n",
              "  </div>\n",
              "  "
            ]
          },
          "metadata": {},
          "execution_count": 8
        }
      ],
      "source": [
        "test.head()"
      ]
    },
    {
      "cell_type": "markdown",
      "metadata": {
        "id": "CGVkuVkFUUKO"
      },
      "source": [
        "## 결측치 확인"
      ]
    },
    {
      "cell_type": "code",
      "execution_count": 9,
      "metadata": {
        "colab": {
          "base_uri": "https://localhost:8080/"
        },
        "id": "zZVZ_JkzUUKO",
        "outputId": "53d32942-4486-4597-daa1-2bdcd02428e6"
      },
      "outputs": [
        {
          "output_type": "execute_result",
          "data": {
            "text/plain": [
              "단지코드                              0\n",
              "총세대수                              0\n",
              "임대건물구분                            0\n",
              "지역                                0\n",
              "공급유형                              0\n",
              "전용면적                              0\n",
              "전용면적별세대수                          0\n",
              "공가수                               0\n",
              "자격유형                              0\n",
              "임대보증금                           569\n",
              "임대료                             569\n",
              "도보 10분거리 내 지하철역 수(환승노선 수 반영)    211\n",
              "도보 10분거리 내 버스정류장 수                4\n",
              "단지내주차면수                           0\n",
              "등록차량수                             0\n",
              "dtype: int64"
            ]
          },
          "metadata": {},
          "execution_count": 9
        }
      ],
      "source": [
        "train.isna().sum()"
      ]
    },
    {
      "cell_type": "code",
      "execution_count": 10,
      "metadata": {
        "colab": {
          "base_uri": "https://localhost:8080/"
        },
        "id": "eOlpCXdhUUKP",
        "outputId": "84f7515a-96d5-49b7-f251-73db4969221a"
      },
      "outputs": [
        {
          "output_type": "execute_result",
          "data": {
            "text/plain": [
              "단지코드                              0\n",
              "총세대수                              0\n",
              "임대건물구분                            0\n",
              "지역                                0\n",
              "공급유형                              0\n",
              "전용면적                              0\n",
              "전용면적별세대수                          0\n",
              "공가수                               0\n",
              "자격유형                              2\n",
              "임대보증금                           180\n",
              "임대료                             180\n",
              "도보 10분거리 내 지하철역 수(환승노선 수 반영)     42\n",
              "도보 10분거리 내 버스정류장 수                0\n",
              "단지내주차면수                           0\n",
              "dtype: int64"
            ]
          },
          "metadata": {},
          "execution_count": 10
        }
      ],
      "source": [
        "test.isna().sum()"
      ]
    },
    {
      "cell_type": "markdown",
      "metadata": {
        "id": "Xs9JzWwbUUKQ"
      },
      "source": [
        "## 컬럼명 변경\n",
        "\n",
        "지하쳘역 수와 버스 정류장 수의 컬럼명을 지하철, 버스로 변경하였습니다."
      ]
    },
    {
      "cell_type": "code",
      "execution_count": 11,
      "metadata": {
        "colab": {
          "base_uri": "https://localhost:8080/"
        },
        "id": "UYX-tdiJUUKQ",
        "outputId": "180de272-cb0e-492a-f8be-bbf73466c659"
      },
      "outputs": [
        {
          "output_type": "execute_result",
          "data": {
            "text/plain": [
              "Index(['단지코드', '총세대수', '임대건물구분', '지역', '공급유형', '전용면적', '전용면적별세대수', '공가수',\n",
              "       '자격유형', '임대보증금', '임대료', '도보 10분거리 내 지하철역 수(환승노선 수 반영)',\n",
              "       '도보 10분거리 내 버스정류장 수', '단지내주차면수', '등록차량수'],\n",
              "      dtype='object')"
            ]
          },
          "metadata": {},
          "execution_count": 11
        }
      ],
      "source": [
        "train.columns"
      ]
    },
    {
      "cell_type": "code",
      "execution_count": 12,
      "metadata": {
        "id": "qw9J0MP1UUKQ"
      },
      "outputs": [],
      "source": [
        "train.columns = [\n",
        "    '단지코드', '총세대수', '임대건물구분', '지역', '공급유형', '전용면적', '전용면적별세대수', '공가수', '신분',\n",
        "    '임대보증금', '임대료', '지하철', '버스',\n",
        "    '단지내주차면수', '등록차량수'\n",
        "]\n",
        "\n",
        "test.columns = [\n",
        "    '단지코드', '총세대수', '임대건물구분', '지역', '공급유형', '전용면적', '전용면적별세대수', '공가수', '신분',\n",
        "    '임대보증금', '임대료', '지하철', '버스',\n",
        "    '단지내주차면수'\n",
        "]"
      ]
    },
    {
      "cell_type": "markdown",
      "metadata": {
        "id": "W79JSlV5UUKR"
      },
      "source": [
        "## 지역명 숫자로 매핑"
      ]
    },
    {
      "cell_type": "code",
      "execution_count": 13,
      "metadata": {
        "id": "rh2_NiFmUUKR"
      },
      "outputs": [],
      "source": [
        "local_map = {}\n",
        "for i, loc in enumerate(train['지역'].unique()):\n",
        "    local_map[loc] = i\n",
        "# local_map은 지역 명과 지역 번호로 매핑"
      ]
    },
    {
      "cell_type": "code",
      "source": [
        "train['지역']"
      ],
      "metadata": {
        "colab": {
          "base_uri": "https://localhost:8080/"
        },
        "id": "VAG8CeqlVNFc",
        "outputId": "c00f3908-b018-46d0-80f3-60fe004a3e62"
      },
      "execution_count": 18,
      "outputs": [
        {
          "output_type": "execute_result",
          "data": {
            "text/plain": [
              "0       0\n",
              "1       0\n",
              "2       0\n",
              "3       0\n",
              "4       0\n",
              "       ..\n",
              "2947    5\n",
              "2948    5\n",
              "2949    5\n",
              "2950    5\n",
              "2951    5\n",
              "Name: 지역, Length: 2952, dtype: int64"
            ]
          },
          "metadata": {},
          "execution_count": 18
        }
      ]
    },
    {
      "cell_type": "code",
      "source": [
        "local_map"
      ],
      "metadata": {
        "colab": {
          "base_uri": "https://localhost:8080/"
        },
        "id": "VWiRm0ptVOac",
        "outputId": "7e397aa4-1c9e-452d-b5cd-25cde554b598"
      },
      "execution_count": 16,
      "outputs": [
        {
          "output_type": "execute_result",
          "data": {
            "text/plain": [
              "{'경상북도': 0,\n",
              " '경상남도': 1,\n",
              " '대전광역시': 2,\n",
              " '경기도': 3,\n",
              " '전라북도': 4,\n",
              " '강원도': 5,\n",
              " '광주광역시': 6,\n",
              " '충청남도': 7,\n",
              " '부산광역시': 8,\n",
              " '제주특별자치도': 9,\n",
              " '울산광역시': 10,\n",
              " '충청북도': 11,\n",
              " '전라남도': 12,\n",
              " '대구광역시': 13,\n",
              " '서울특별시': 14,\n",
              " '세종특별자치시': 15}"
            ]
          },
          "metadata": {},
          "execution_count": 16
        }
      ]
    },
    {
      "cell_type": "code",
      "execution_count": 17,
      "metadata": {
        "id": "cI3gUP38UUKR"
      },
      "outputs": [],
      "source": [
        "train['지역'] = train['지역'].map(local_map)\n",
        "test['지역'] = test['지역'].map(local_map)\n",
        "#원래 문자로 되어있던 걸 숫자로 바꿈"
      ]
    },
    {
      "cell_type": "markdown",
      "metadata": {
        "id": "O4F3PSR_UUKR"
      },
      "source": [
        "## 전용면적을 5의 배수로 변경"
      ]
    },
    {
      "cell_type": "code",
      "execution_count": 20,
      "metadata": {
        "id": "AjpsbdkEUUKS"
      },
      "outputs": [],
      "source": [
        "train['전용면적'] = train['전용면적']//5*5\n",
        "test['전용면적'] = test['전용면적']//5*5\n",
        "#5로 나눠 몫만 가져옴. 그다음 5를 곱해 소수점이 없음."
      ]
    },
    {
      "cell_type": "markdown",
      "metadata": {
        "id": "8BZ0PwD1UUKS"
      },
      "source": [
        "## 전용면적 상/하한 적용\n",
        "\n",
        "상한100, 하한 15"
      ]
    },
    {
      "cell_type": "code",
      "source": [
        "train[train['전용면적']>100].index"
      ],
      "metadata": {
        "colab": {
          "base_uri": "https://localhost:8080/"
        },
        "id": "kHW53iwZVzaN",
        "outputId": "5b5d6e18-c72d-4ab7-cb32-7a964bc6474f"
      },
      "execution_count": 24,
      "outputs": [
        {
          "output_type": "execute_result",
          "data": {
            "text/plain": [
              "Int64Index([], dtype='int64')"
            ]
          },
          "metadata": {},
          "execution_count": 24
        }
      ]
    },
    {
      "cell_type": "code",
      "source": [
        "train['전용면적']>100"
      ],
      "metadata": {
        "colab": {
          "base_uri": "https://localhost:8080/"
        },
        "id": "v7-LYF7fV03n",
        "outputId": "4d57fa86-0336-4564-f8a0-9a3fa42b4ee0"
      },
      "execution_count": 25,
      "outputs": [
        {
          "output_type": "execute_result",
          "data": {
            "text/plain": [
              "0       False\n",
              "1       False\n",
              "2       False\n",
              "3       False\n",
              "4       False\n",
              "        ...  \n",
              "2947    False\n",
              "2948    False\n",
              "2949    False\n",
              "2950    False\n",
              "2951    False\n",
              "Name: 전용면적, Length: 2952, dtype: bool"
            ]
          },
          "metadata": {},
          "execution_count": 25
        }
      ]
    },
    {
      "cell_type": "code",
      "source": [
        "idx = train[train['전용면적']>100].index"
      ],
      "metadata": {
        "id": "JAPNmkPhWCFk"
      },
      "execution_count": 36,
      "outputs": []
    },
    {
      "cell_type": "code",
      "source": [
        "idx"
      ],
      "metadata": {
        "colab": {
          "base_uri": "https://localhost:8080/"
        },
        "id": "Xwi2at-uWdzf",
        "outputId": "a3d5f36c-e488-49fa-8735-d86aad33f2a0"
      },
      "execution_count": 37,
      "outputs": [
        {
          "output_type": "execute_result",
          "data": {
            "text/plain": [
              "Int64Index([], dtype='int64')"
            ]
          },
          "metadata": {},
          "execution_count": 37
        }
      ]
    },
    {
      "cell_type": "code",
      "execution_count": 43,
      "metadata": {
        "id": "eOrK-hPaUUKS"
      },
      "outputs": [],
      "source": [
        "idx = train[train['전용면적']>100].index #train[train['전용면적']] 중에 100을 넘는 값들 index를 가져옴\n",
        "train.loc[idx, '전용면적'] = 100 #iloc이 아니라 loc을 쓰는 이유는 idx값이 실제 그 index 이름에 들어가야하기 때문임. 결국 전용면적 컬럼에 100을 넘는 값을 전부 100으로 만드는 코드임\n",
        "idx = test[test['전용면적']>100].index\n",
        "test.loc[idx, '전용면적'] = 100\n",
        "\n",
        "idx = train[train['전용면적']<15].index # 위와 같음. 15보다 작으면 15로 만듦\n",
        "train.loc[idx, '전용면적'] = 15\n",
        "idx = test[test['전용면적']<15].index\n",
        "test.loc[idx, '전용면적'] = 15\n"
      ]
    },
    {
      "cell_type": "code",
      "execution_count": 45,
      "metadata": {
        "colab": {
          "base_uri": "https://localhost:8080/"
        },
        "id": "WU5JEOLYUUKS",
        "outputId": "6fe9989a-57b1-4507-8933-eeaff4148573"
      },
      "outputs": [
        {
          "output_type": "execute_result",
          "data": {
            "text/plain": [
              "array([ 35.,  45.,  50.,  30.,  55.,  25.,  75., 100.,  15.,  20.,  40.,\n",
              "        60.,  80.,  70.])"
            ]
          },
          "metadata": {},
          "execution_count": 45
        }
      ],
      "source": [
        "test['전용면적'].unique() #고유 값을 보여주는데 여기서 15보다 낮거나, 100을 넘는 값은 없다."
      ]
    },
    {
      "cell_type": "markdown",
      "metadata": {
        "id": "LWt9GS7SUUKS"
      },
      "source": [
        "## 단지별 데이터 1차원으로 취합"
      ]
    },
    {
      "cell_type": "code",
      "execution_count": 46,
      "metadata": {
        "id": "WAsGmd9eUUKT"
      },
      "outputs": [],
      "source": [
        "columns = ['단지코드', '총세대수', '공가수', '지역', '단지내주차면수', '지하철', '버스']\n",
        "target = '등록차량수'\n",
        "area_columns = []\n",
        "for area in train['전용면적'].unique(): #여기서도 unique를 써서 고유값이 area 변수에 들어가 area_coulumns 리스트에 \"면적_{전용면적 고유값}\"이 들어간다.\n",
        "    area_columns.append(f'면적_{area}')"
      ]
    },
    {
      "cell_type": "code",
      "source": [
        "area_columns "
      ],
      "metadata": {
        "colab": {
          "base_uri": "https://localhost:8080/"
        },
        "id": "_trGOiRxYAgY",
        "outputId": "e7e7fd95-dd99-402d-caab-037d87086368"
      },
      "execution_count": 47,
      "outputs": [
        {
          "output_type": "execute_result",
          "data": {
            "text/plain": [
              "['면적_35.0',\n",
              " '면적_50.0',\n",
              " '면적_55.0',\n",
              " '면적_30.0',\n",
              " '면적_45.0',\n",
              " '면적_40.0',\n",
              " '면적_25.0',\n",
              " '면적_70.0',\n",
              " '면적_15.0',\n",
              " '면적_20.0',\n",
              " '면적_100.0',\n",
              " '면적_60.0',\n",
              " '면적_75.0',\n",
              " '면적_80.0',\n",
              " '면적_65.0']"
            ]
          },
          "metadata": {},
          "execution_count": 47
        }
      ]
    },
    {
      "cell_type": "code",
      "execution_count": 48,
      "metadata": {
        "id": "V1goY_noUUKT"
      },
      "outputs": [],
      "source": [
        "new_train = pd.DataFrame() #pandas는 데이터프레임 변수를 만들어 df를 만든다.\n",
        "new_test = pd.DataFrame()"
      ]
    },
    {
      "cell_type": "code",
      "source": [
        "train['단지코드']"
      ],
      "metadata": {
        "colab": {
          "base_uri": "https://localhost:8080/"
        },
        "id": "ceGctoxyYPOP",
        "outputId": "5818c452-6f07-46e9-e7a3-694b5496c21c"
      },
      "execution_count": 49,
      "outputs": [
        {
          "output_type": "execute_result",
          "data": {
            "text/plain": [
              "0       C2483\n",
              "1       C2483\n",
              "2       C2483\n",
              "3       C2483\n",
              "4       C2483\n",
              "        ...  \n",
              "2947    C2532\n",
              "2948    C2532\n",
              "2949    C2532\n",
              "2950    C2532\n",
              "2951    C2532\n",
              "Name: 단지코드, Length: 2952, dtype: object"
            ]
          },
          "metadata": {},
          "execution_count": 49
        }
      ]
    },
    {
      "cell_type": "code",
      "source": [
        "temp.shape"
      ],
      "metadata": {
        "colab": {
          "base_uri": "https://localhost:8080/"
        },
        "id": "5AlW9MMTYpWh",
        "outputId": "d4a60051-02f3-49e5-b3c8-3ef66d1445ae"
      },
      "execution_count": 54,
      "outputs": [
        {
          "output_type": "execute_result",
          "data": {
            "text/plain": [
              "(4, 14)"
            ]
          },
          "metadata": {},
          "execution_count": 54
        }
      ]
    },
    {
      "cell_type": "code",
      "source": [
        "temp.shape[0]"
      ],
      "metadata": {
        "colab": {
          "base_uri": "https://localhost:8080/"
        },
        "id": "jshEES86YmpB",
        "outputId": "1310cd54-b7c3-4294-cbea-eb72911f1405"
      },
      "execution_count": 52,
      "outputs": [
        {
          "output_type": "execute_result",
          "data": {
            "text/plain": [
              "4"
            ]
          },
          "metadata": {},
          "execution_count": 52
        }
      ]
    },
    {
      "cell_type": "code",
      "source": [
        "temp.loc[0,'단지코드']"
      ],
      "metadata": {
        "colab": {
          "base_uri": "https://localhost:8080/",
          "height": 35
        },
        "id": "cI_xF2jMY-c0",
        "outputId": "c1ff6176-6fd3-4342-bfff-c4e4a37d7b1b"
      },
      "execution_count": 64,
      "outputs": [
        {
          "output_type": "execute_result",
          "data": {
            "text/plain": [
              "'C2189'"
            ],
            "application/vnd.google.colaboratory.intrinsic+json": {
              "type": "string"
            }
          },
          "metadata": {},
          "execution_count": 64
        }
      ]
    },
    {
      "cell_type": "code",
      "source": [
        "temp[temp['전용면적']==area]['전용면적별세대수']"
      ],
      "metadata": {
        "colab": {
          "base_uri": "https://localhost:8080/"
        },
        "id": "lrBiWSWLZ_MA",
        "outputId": "c5504c68-9d96-448c-aecd-3bfd3be8e963"
      },
      "execution_count": 66,
      "outputs": [
        {
          "output_type": "execute_result",
          "data": {
            "text/plain": [
              "Series([], Name: 전용면적별세대수, dtype: int64)"
            ]
          },
          "metadata": {},
          "execution_count": 66
        }
      ]
    },
    {
      "cell_type": "code",
      "execution_count": 50,
      "metadata": {
        "colab": {
          "base_uri": "https://localhost:8080/"
        },
        "id": "KzG6IHwYUUKT",
        "outputId": "6453bd23-1832-4b4f-9de8-cbf5a0029c7b"
      },
      "outputs": [
        {
          "output_type": "stream",
          "name": "stderr",
          "text": [
            "423it [00:05, 73.67it/s]\n",
            "150it [00:02, 74.61it/s]\n"
          ]
        }
      ],
      "source": [
        "for i, code in tqdm(enumerate(train['단지코드'].unique())): #많은 단지 코드 중 고유값만 가져옴. tqdm은 파이썬에서 제공하는 함수로 얼마나 코드가 진행되었는지 보여준다.\n",
        "    temp = train[train['단지코드']==code] #train에 단지코드중 고유값들을 temp 변수에 넣는다.\n",
        "    temp.index = range(temp.shape[0]) #temp는 dataframe인데 위에 보면 temp가 4개 행을 가지고 14개 열을 가지기에 shape가 (4,14)이다. #그중 temp 행 길이가 4인데 그 길이만큼 돌게 만드는 temp.index에 range 함수를 넣는다.\n",
        "    for col in columns: \n",
        "        new_train.loc[i, col] = temp.loc[0, col] #temp.loc을 보면 단지코드 C2189 4개 행을 보여준다. 그중 첫행에 columns 변수 '단지코드','총세대수'... 등을 new_train.loc에 i번째 행 col에 넣는다.\n",
        "    \n",
        "    for col in area_columns:\n",
        "        area = float(col.split('_')[-1])\n",
        "        new_train.loc[i, col] = temp[temp['전용면적']==area]['전용면적별세대수'].sum() #면적과 area변수가 True인 값 중에 전용면적별세대수 값을 new_train 변수에 넣는다..\n",
        "    \n",
        "    new_train.loc[i, '등록차량수'] = temp.loc[0, '등록차량수'] #위와 똑같다. 등록차량수는 전부 똑같은 값이다.(왜냐하면 단지 코드가 같으면 등록차량수도 같다..)\n",
        "    \n",
        "for i, code in tqdm(enumerate(test['단지코드'].unique())): #아래 코드는 위와 내용이 같다. test용이다.\n",
        "    temp = test[test['단지코드']==code]\n",
        "    temp.index = range(temp.shape[0])\n",
        "    for col in columns:\n",
        "        new_test.loc[i, col] = temp.loc[0, col]\n",
        "    \n",
        "    for col in area_columns:\n",
        "        area = float(col.split('_')[-1])\n",
        "        new_test.loc[i, col] = temp[temp['전용면적']==area]['전용면적별세대수'].sum()"
      ]
    },
    {
      "cell_type": "code",
      "execution_count": null,
      "metadata": {
        "id": "cobIdhMgUUKT",
        "outputId": "a3ef081c-f74e-4807-b584-714f74450d9e"
      },
      "outputs": [
        {
          "data": {
            "text/html": [
              "<div>\n",
              "<style scoped>\n",
              "    .dataframe tbody tr th:only-of-type {\n",
              "        vertical-align: middle;\n",
              "    }\n",
              "\n",
              "    .dataframe tbody tr th {\n",
              "        vertical-align: top;\n",
              "    }\n",
              "\n",
              "    .dataframe thead th {\n",
              "        text-align: right;\n",
              "    }\n",
              "</style>\n",
              "<table border=\"1\" class=\"dataframe\">\n",
              "  <thead>\n",
              "    <tr style=\"text-align: right;\">\n",
              "      <th></th>\n",
              "      <th>단지코드</th>\n",
              "      <th>총세대수</th>\n",
              "      <th>공가수</th>\n",
              "      <th>지역</th>\n",
              "      <th>단지내주차면수</th>\n",
              "      <th>지하철</th>\n",
              "      <th>버스</th>\n",
              "      <th>면적_35.0</th>\n",
              "      <th>면적_50.0</th>\n",
              "      <th>면적_55.0</th>\n",
              "      <th>...</th>\n",
              "      <th>면적_25.0</th>\n",
              "      <th>면적_70.0</th>\n",
              "      <th>면적_15.0</th>\n",
              "      <th>면적_20.0</th>\n",
              "      <th>면적_100.0</th>\n",
              "      <th>면적_60.0</th>\n",
              "      <th>면적_75.0</th>\n",
              "      <th>면적_80.0</th>\n",
              "      <th>면적_65.0</th>\n",
              "      <th>등록차량수</th>\n",
              "    </tr>\n",
              "  </thead>\n",
              "  <tbody>\n",
              "    <tr>\n",
              "      <th>0</th>\n",
              "      <td>C2483</td>\n",
              "      <td>900.0</td>\n",
              "      <td>38.0</td>\n",
              "      <td>0.0</td>\n",
              "      <td>1425.0</td>\n",
              "      <td>0.0</td>\n",
              "      <td>3.0</td>\n",
              "      <td>149.0</td>\n",
              "      <td>665.0</td>\n",
              "      <td>86.0</td>\n",
              "      <td>...</td>\n",
              "      <td>0.0</td>\n",
              "      <td>0.0</td>\n",
              "      <td>0.0</td>\n",
              "      <td>0.0</td>\n",
              "      <td>0.0</td>\n",
              "      <td>0.0</td>\n",
              "      <td>0.0</td>\n",
              "      <td>0.0</td>\n",
              "      <td>0.0</td>\n",
              "      <td>1015.0</td>\n",
              "    </tr>\n",
              "    <tr>\n",
              "      <th>1</th>\n",
              "      <td>C2515</td>\n",
              "      <td>545.0</td>\n",
              "      <td>17.0</td>\n",
              "      <td>1.0</td>\n",
              "      <td>624.0</td>\n",
              "      <td>0.0</td>\n",
              "      <td>3.0</td>\n",
              "      <td>80.0</td>\n",
              "      <td>132.0</td>\n",
              "      <td>0.0</td>\n",
              "      <td>...</td>\n",
              "      <td>0.0</td>\n",
              "      <td>0.0</td>\n",
              "      <td>0.0</td>\n",
              "      <td>0.0</td>\n",
              "      <td>0.0</td>\n",
              "      <td>0.0</td>\n",
              "      <td>0.0</td>\n",
              "      <td>0.0</td>\n",
              "      <td>0.0</td>\n",
              "      <td>205.0</td>\n",
              "    </tr>\n",
              "    <tr>\n",
              "      <th>2</th>\n",
              "      <td>C1407</td>\n",
              "      <td>1216.0</td>\n",
              "      <td>13.0</td>\n",
              "      <td>2.0</td>\n",
              "      <td>1285.0</td>\n",
              "      <td>1.0</td>\n",
              "      <td>1.0</td>\n",
              "      <td>0.0</td>\n",
              "      <td>124.0</td>\n",
              "      <td>0.0</td>\n",
              "      <td>...</td>\n",
              "      <td>0.0</td>\n",
              "      <td>0.0</td>\n",
              "      <td>0.0</td>\n",
              "      <td>0.0</td>\n",
              "      <td>0.0</td>\n",
              "      <td>0.0</td>\n",
              "      <td>0.0</td>\n",
              "      <td>0.0</td>\n",
              "      <td>0.0</td>\n",
              "      <td>1064.0</td>\n",
              "    </tr>\n",
              "    <tr>\n",
              "      <th>3</th>\n",
              "      <td>C1945</td>\n",
              "      <td>755.0</td>\n",
              "      <td>6.0</td>\n",
              "      <td>3.0</td>\n",
              "      <td>734.0</td>\n",
              "      <td>1.0</td>\n",
              "      <td>3.0</td>\n",
              "      <td>240.0</td>\n",
              "      <td>303.0</td>\n",
              "      <td>212.0</td>\n",
              "      <td>...</td>\n",
              "      <td>0.0</td>\n",
              "      <td>0.0</td>\n",
              "      <td>0.0</td>\n",
              "      <td>0.0</td>\n",
              "      <td>0.0</td>\n",
              "      <td>0.0</td>\n",
              "      <td>0.0</td>\n",
              "      <td>0.0</td>\n",
              "      <td>0.0</td>\n",
              "      <td>730.0</td>\n",
              "    </tr>\n",
              "    <tr>\n",
              "      <th>4</th>\n",
              "      <td>C1470</td>\n",
              "      <td>696.0</td>\n",
              "      <td>14.0</td>\n",
              "      <td>4.0</td>\n",
              "      <td>645.0</td>\n",
              "      <td>0.0</td>\n",
              "      <td>2.0</td>\n",
              "      <td>254.0</td>\n",
              "      <td>246.0</td>\n",
              "      <td>0.0</td>\n",
              "      <td>...</td>\n",
              "      <td>0.0</td>\n",
              "      <td>0.0</td>\n",
              "      <td>0.0</td>\n",
              "      <td>0.0</td>\n",
              "      <td>0.0</td>\n",
              "      <td>0.0</td>\n",
              "      <td>0.0</td>\n",
              "      <td>0.0</td>\n",
              "      <td>0.0</td>\n",
              "      <td>553.0</td>\n",
              "    </tr>\n",
              "    <tr>\n",
              "      <th>...</th>\n",
              "      <td>...</td>\n",
              "      <td>...</td>\n",
              "      <td>...</td>\n",
              "      <td>...</td>\n",
              "      <td>...</td>\n",
              "      <td>...</td>\n",
              "      <td>...</td>\n",
              "      <td>...</td>\n",
              "      <td>...</td>\n",
              "      <td>...</td>\n",
              "      <td>...</td>\n",
              "      <td>...</td>\n",
              "      <td>...</td>\n",
              "      <td>...</td>\n",
              "      <td>...</td>\n",
              "      <td>...</td>\n",
              "      <td>...</td>\n",
              "      <td>...</td>\n",
              "      <td>...</td>\n",
              "      <td>...</td>\n",
              "      <td>...</td>\n",
              "    </tr>\n",
              "    <tr>\n",
              "      <th>418</th>\n",
              "      <td>C2586</td>\n",
              "      <td>90.0</td>\n",
              "      <td>7.0</td>\n",
              "      <td>9.0</td>\n",
              "      <td>66.0</td>\n",
              "      <td>0.0</td>\n",
              "      <td>3.0</td>\n",
              "      <td>36.0</td>\n",
              "      <td>0.0</td>\n",
              "      <td>0.0</td>\n",
              "      <td>...</td>\n",
              "      <td>42.0</td>\n",
              "      <td>0.0</td>\n",
              "      <td>12.0</td>\n",
              "      <td>0.0</td>\n",
              "      <td>0.0</td>\n",
              "      <td>0.0</td>\n",
              "      <td>0.0</td>\n",
              "      <td>0.0</td>\n",
              "      <td>0.0</td>\n",
              "      <td>57.0</td>\n",
              "    </tr>\n",
              "    <tr>\n",
              "      <th>419</th>\n",
              "      <td>C2035</td>\n",
              "      <td>492.0</td>\n",
              "      <td>24.0</td>\n",
              "      <td>5.0</td>\n",
              "      <td>521.0</td>\n",
              "      <td>0.0</td>\n",
              "      <td>1.0</td>\n",
              "      <td>156.0</td>\n",
              "      <td>0.0</td>\n",
              "      <td>0.0</td>\n",
              "      <td>...</td>\n",
              "      <td>156.0</td>\n",
              "      <td>0.0</td>\n",
              "      <td>0.0</td>\n",
              "      <td>0.0</td>\n",
              "      <td>0.0</td>\n",
              "      <td>0.0</td>\n",
              "      <td>0.0</td>\n",
              "      <td>0.0</td>\n",
              "      <td>0.0</td>\n",
              "      <td>246.0</td>\n",
              "    </tr>\n",
              "    <tr>\n",
              "      <th>420</th>\n",
              "      <td>C2020</td>\n",
              "      <td>40.0</td>\n",
              "      <td>7.0</td>\n",
              "      <td>8.0</td>\n",
              "      <td>25.0</td>\n",
              "      <td>1.0</td>\n",
              "      <td>2.0</td>\n",
              "      <td>15.0</td>\n",
              "      <td>0.0</td>\n",
              "      <td>0.0</td>\n",
              "      <td>...</td>\n",
              "      <td>5.0</td>\n",
              "      <td>0.0</td>\n",
              "      <td>20.0</td>\n",
              "      <td>0.0</td>\n",
              "      <td>0.0</td>\n",
              "      <td>0.0</td>\n",
              "      <td>0.0</td>\n",
              "      <td>0.0</td>\n",
              "      <td>0.0</td>\n",
              "      <td>19.0</td>\n",
              "    </tr>\n",
              "    <tr>\n",
              "      <th>421</th>\n",
              "      <td>C2437</td>\n",
              "      <td>90.0</td>\n",
              "      <td>12.0</td>\n",
              "      <td>11.0</td>\n",
              "      <td>30.0</td>\n",
              "      <td>0.0</td>\n",
              "      <td>1.0</td>\n",
              "      <td>0.0</td>\n",
              "      <td>0.0</td>\n",
              "      <td>0.0</td>\n",
              "      <td>...</td>\n",
              "      <td>0.0</td>\n",
              "      <td>0.0</td>\n",
              "      <td>0.0</td>\n",
              "      <td>90.0</td>\n",
              "      <td>0.0</td>\n",
              "      <td>0.0</td>\n",
              "      <td>0.0</td>\n",
              "      <td>0.0</td>\n",
              "      <td>0.0</td>\n",
              "      <td>16.0</td>\n",
              "    </tr>\n",
              "    <tr>\n",
              "      <th>422</th>\n",
              "      <td>C2532</td>\n",
              "      <td>239.0</td>\n",
              "      <td>7.0</td>\n",
              "      <td>5.0</td>\n",
              "      <td>166.0</td>\n",
              "      <td>0.0</td>\n",
              "      <td>1.0</td>\n",
              "      <td>0.0</td>\n",
              "      <td>201.0</td>\n",
              "      <td>0.0</td>\n",
              "      <td>...</td>\n",
              "      <td>0.0</td>\n",
              "      <td>0.0</td>\n",
              "      <td>0.0</td>\n",
              "      <td>0.0</td>\n",
              "      <td>0.0</td>\n",
              "      <td>0.0</td>\n",
              "      <td>0.0</td>\n",
              "      <td>0.0</td>\n",
              "      <td>0.0</td>\n",
              "      <td>146.0</td>\n",
              "    </tr>\n",
              "  </tbody>\n",
              "</table>\n",
              "<p>423 rows × 23 columns</p>\n",
              "</div>"
            ],
            "text/plain": [
              "      단지코드    총세대수   공가수    지역  단지내주차면수  지하철   버스  면적_35.0  면적_50.0  면적_55.0  \\\n",
              "0    C2483   900.0  38.0   0.0   1425.0  0.0  3.0    149.0    665.0     86.0   \n",
              "1    C2515   545.0  17.0   1.0    624.0  0.0  3.0     80.0    132.0      0.0   \n",
              "2    C1407  1216.0  13.0   2.0   1285.0  1.0  1.0      0.0    124.0      0.0   \n",
              "3    C1945   755.0   6.0   3.0    734.0  1.0  3.0    240.0    303.0    212.0   \n",
              "4    C1470   696.0  14.0   4.0    645.0  0.0  2.0    254.0    246.0      0.0   \n",
              "..     ...     ...   ...   ...      ...  ...  ...      ...      ...      ...   \n",
              "418  C2586    90.0   7.0   9.0     66.0  0.0  3.0     36.0      0.0      0.0   \n",
              "419  C2035   492.0  24.0   5.0    521.0  0.0  1.0    156.0      0.0      0.0   \n",
              "420  C2020    40.0   7.0   8.0     25.0  1.0  2.0     15.0      0.0      0.0   \n",
              "421  C2437    90.0  12.0  11.0     30.0  0.0  1.0      0.0      0.0      0.0   \n",
              "422  C2532   239.0   7.0   5.0    166.0  0.0  1.0      0.0    201.0      0.0   \n",
              "\n",
              "     ...  면적_25.0  면적_70.0  면적_15.0  면적_20.0  면적_100.0  면적_60.0  면적_75.0  \\\n",
              "0    ...      0.0      0.0      0.0      0.0       0.0      0.0      0.0   \n",
              "1    ...      0.0      0.0      0.0      0.0       0.0      0.0      0.0   \n",
              "2    ...      0.0      0.0      0.0      0.0       0.0      0.0      0.0   \n",
              "3    ...      0.0      0.0      0.0      0.0       0.0      0.0      0.0   \n",
              "4    ...      0.0      0.0      0.0      0.0       0.0      0.0      0.0   \n",
              "..   ...      ...      ...      ...      ...       ...      ...      ...   \n",
              "418  ...     42.0      0.0     12.0      0.0       0.0      0.0      0.0   \n",
              "419  ...    156.0      0.0      0.0      0.0       0.0      0.0      0.0   \n",
              "420  ...      5.0      0.0     20.0      0.0       0.0      0.0      0.0   \n",
              "421  ...      0.0      0.0      0.0     90.0       0.0      0.0      0.0   \n",
              "422  ...      0.0      0.0      0.0      0.0       0.0      0.0      0.0   \n",
              "\n",
              "     면적_80.0  면적_65.0   등록차량수  \n",
              "0        0.0      0.0  1015.0  \n",
              "1        0.0      0.0   205.0  \n",
              "2        0.0      0.0  1064.0  \n",
              "3        0.0      0.0   730.0  \n",
              "4        0.0      0.0   553.0  \n",
              "..       ...      ...     ...  \n",
              "418      0.0      0.0    57.0  \n",
              "419      0.0      0.0   246.0  \n",
              "420      0.0      0.0    19.0  \n",
              "421      0.0      0.0    16.0  \n",
              "422      0.0      0.0   146.0  \n",
              "\n",
              "[423 rows x 23 columns]"
            ]
          },
          "execution_count": 18,
          "metadata": {},
          "output_type": "execute_result"
        }
      ],
      "source": [
        "new_train"
      ]
    },
    {
      "cell_type": "markdown",
      "metadata": {
        "id": "sTJq-x9eUUKU"
      },
      "source": [
        "## 결측치 처리"
      ]
    },
    {
      "cell_type": "code",
      "execution_count": 70,
      "metadata": {
        "id": "ZspMfXgaUUKU"
      },
      "outputs": [],
      "source": [
        "new_train = new_train.fillna(-1)\n",
        "new_test = new_test.fillna(-1) #na값, nan값을 결측치라 한다. 이 결측치 값을 -1로 채운다."
      ]
    },
    {
      "cell_type": "markdown",
      "metadata": {
        "id": "n1W1W7qZUUKU"
      },
      "source": [
        "## 학습"
      ]
    },
    {
      "cell_type": "code",
      "execution_count": 71,
      "metadata": {
        "id": "HhSVTi0yUUKU"
      },
      "outputs": [],
      "source": [
        "x_train = new_train.iloc[:, 1:-1]  # 등록차량수를 제외한 모든 값.\n",
        "y_train = new_train.iloc[:,-1] #등록차량수 모든 값\n",
        "x_test = new_test.iloc[:,1:]"
      ]
    },
    {
      "cell_type": "code",
      "source": [
        "new_train"
      ],
      "metadata": {
        "colab": {
          "base_uri": "https://localhost:8080/",
          "height": 540
        },
        "id": "7mhcF78IbDtG",
        "outputId": "4a75df1f-9e4c-4506-ab11-d0057d90f71b"
      },
      "execution_count": 75,
      "outputs": [
        {
          "output_type": "execute_result",
          "data": {
            "text/plain": [
              "      단지코드    총세대수   공가수    지역  단지내주차면수  지하철   버스  면적_35.0  면적_50.0  면적_55.0  \\\n",
              "0    C2483   900.0  38.0   0.0   1425.0  0.0  3.0    149.0    665.0     86.0   \n",
              "1    C2515   545.0  17.0   1.0    624.0  0.0  3.0     80.0    132.0      0.0   \n",
              "2    C1407  1216.0  13.0   2.0   1285.0  1.0  1.0      0.0    124.0      0.0   \n",
              "3    C1945   755.0   6.0   3.0    734.0  1.0  3.0    240.0    303.0    212.0   \n",
              "4    C1470   696.0  14.0   4.0    645.0  0.0  2.0    254.0    246.0      0.0   \n",
              "..     ...     ...   ...   ...      ...  ...  ...      ...      ...      ...   \n",
              "418  C2586    90.0   7.0   9.0     66.0  0.0  3.0     36.0      0.0      0.0   \n",
              "419  C2035   492.0  24.0   5.0    521.0  0.0  1.0    156.0      0.0      0.0   \n",
              "420  C2020    40.0   7.0   8.0     25.0  1.0  2.0     15.0      0.0      0.0   \n",
              "421  C2437    90.0  12.0  11.0     30.0  0.0  1.0      0.0      0.0      0.0   \n",
              "422  C2532   239.0   7.0   5.0    166.0  0.0  1.0      0.0    201.0      0.0   \n",
              "\n",
              "     ...  면적_25.0  면적_70.0  면적_15.0  면적_20.0  면적_100.0  면적_60.0  면적_75.0  \\\n",
              "0    ...      0.0      0.0      0.0      0.0       0.0      0.0      0.0   \n",
              "1    ...      0.0      0.0      0.0      0.0       0.0      0.0      0.0   \n",
              "2    ...      0.0      0.0      0.0      0.0       0.0      0.0      0.0   \n",
              "3    ...      0.0      0.0      0.0      0.0       0.0      0.0      0.0   \n",
              "4    ...      0.0      0.0      0.0      0.0       0.0      0.0      0.0   \n",
              "..   ...      ...      ...      ...      ...       ...      ...      ...   \n",
              "418  ...     42.0      0.0     12.0      0.0       0.0      0.0      0.0   \n",
              "419  ...    156.0      0.0      0.0      0.0       0.0      0.0      0.0   \n",
              "420  ...      5.0      0.0     20.0      0.0       0.0      0.0      0.0   \n",
              "421  ...      0.0      0.0      0.0     90.0       0.0      0.0      0.0   \n",
              "422  ...      0.0      0.0      0.0      0.0       0.0      0.0      0.0   \n",
              "\n",
              "     면적_80.0  면적_65.0   등록차량수  \n",
              "0        0.0      0.0  1015.0  \n",
              "1        0.0      0.0   205.0  \n",
              "2        0.0      0.0  1064.0  \n",
              "3        0.0      0.0   730.0  \n",
              "4        0.0      0.0   553.0  \n",
              "..       ...      ...     ...  \n",
              "418      0.0      0.0    57.0  \n",
              "419      0.0      0.0   246.0  \n",
              "420      0.0      0.0    19.0  \n",
              "421      0.0      0.0    16.0  \n",
              "422      0.0      0.0   146.0  \n",
              "\n",
              "[423 rows x 23 columns]"
            ],
            "text/html": [
              "\n",
              "  <div id=\"df-cd3b8851-9a17-412a-83d8-c93cdea0698f\">\n",
              "    <div class=\"colab-df-container\">\n",
              "      <div>\n",
              "<style scoped>\n",
              "    .dataframe tbody tr th:only-of-type {\n",
              "        vertical-align: middle;\n",
              "    }\n",
              "\n",
              "    .dataframe tbody tr th {\n",
              "        vertical-align: top;\n",
              "    }\n",
              "\n",
              "    .dataframe thead th {\n",
              "        text-align: right;\n",
              "    }\n",
              "</style>\n",
              "<table border=\"1\" class=\"dataframe\">\n",
              "  <thead>\n",
              "    <tr style=\"text-align: right;\">\n",
              "      <th></th>\n",
              "      <th>단지코드</th>\n",
              "      <th>총세대수</th>\n",
              "      <th>공가수</th>\n",
              "      <th>지역</th>\n",
              "      <th>단지내주차면수</th>\n",
              "      <th>지하철</th>\n",
              "      <th>버스</th>\n",
              "      <th>면적_35.0</th>\n",
              "      <th>면적_50.0</th>\n",
              "      <th>면적_55.0</th>\n",
              "      <th>...</th>\n",
              "      <th>면적_25.0</th>\n",
              "      <th>면적_70.0</th>\n",
              "      <th>면적_15.0</th>\n",
              "      <th>면적_20.0</th>\n",
              "      <th>면적_100.0</th>\n",
              "      <th>면적_60.0</th>\n",
              "      <th>면적_75.0</th>\n",
              "      <th>면적_80.0</th>\n",
              "      <th>면적_65.0</th>\n",
              "      <th>등록차량수</th>\n",
              "    </tr>\n",
              "  </thead>\n",
              "  <tbody>\n",
              "    <tr>\n",
              "      <th>0</th>\n",
              "      <td>C2483</td>\n",
              "      <td>900.0</td>\n",
              "      <td>38.0</td>\n",
              "      <td>0.0</td>\n",
              "      <td>1425.0</td>\n",
              "      <td>0.0</td>\n",
              "      <td>3.0</td>\n",
              "      <td>149.0</td>\n",
              "      <td>665.0</td>\n",
              "      <td>86.0</td>\n",
              "      <td>...</td>\n",
              "      <td>0.0</td>\n",
              "      <td>0.0</td>\n",
              "      <td>0.0</td>\n",
              "      <td>0.0</td>\n",
              "      <td>0.0</td>\n",
              "      <td>0.0</td>\n",
              "      <td>0.0</td>\n",
              "      <td>0.0</td>\n",
              "      <td>0.0</td>\n",
              "      <td>1015.0</td>\n",
              "    </tr>\n",
              "    <tr>\n",
              "      <th>1</th>\n",
              "      <td>C2515</td>\n",
              "      <td>545.0</td>\n",
              "      <td>17.0</td>\n",
              "      <td>1.0</td>\n",
              "      <td>624.0</td>\n",
              "      <td>0.0</td>\n",
              "      <td>3.0</td>\n",
              "      <td>80.0</td>\n",
              "      <td>132.0</td>\n",
              "      <td>0.0</td>\n",
              "      <td>...</td>\n",
              "      <td>0.0</td>\n",
              "      <td>0.0</td>\n",
              "      <td>0.0</td>\n",
              "      <td>0.0</td>\n",
              "      <td>0.0</td>\n",
              "      <td>0.0</td>\n",
              "      <td>0.0</td>\n",
              "      <td>0.0</td>\n",
              "      <td>0.0</td>\n",
              "      <td>205.0</td>\n",
              "    </tr>\n",
              "    <tr>\n",
              "      <th>2</th>\n",
              "      <td>C1407</td>\n",
              "      <td>1216.0</td>\n",
              "      <td>13.0</td>\n",
              "      <td>2.0</td>\n",
              "      <td>1285.0</td>\n",
              "      <td>1.0</td>\n",
              "      <td>1.0</td>\n",
              "      <td>0.0</td>\n",
              "      <td>124.0</td>\n",
              "      <td>0.0</td>\n",
              "      <td>...</td>\n",
              "      <td>0.0</td>\n",
              "      <td>0.0</td>\n",
              "      <td>0.0</td>\n",
              "      <td>0.0</td>\n",
              "      <td>0.0</td>\n",
              "      <td>0.0</td>\n",
              "      <td>0.0</td>\n",
              "      <td>0.0</td>\n",
              "      <td>0.0</td>\n",
              "      <td>1064.0</td>\n",
              "    </tr>\n",
              "    <tr>\n",
              "      <th>3</th>\n",
              "      <td>C1945</td>\n",
              "      <td>755.0</td>\n",
              "      <td>6.0</td>\n",
              "      <td>3.0</td>\n",
              "      <td>734.0</td>\n",
              "      <td>1.0</td>\n",
              "      <td>3.0</td>\n",
              "      <td>240.0</td>\n",
              "      <td>303.0</td>\n",
              "      <td>212.0</td>\n",
              "      <td>...</td>\n",
              "      <td>0.0</td>\n",
              "      <td>0.0</td>\n",
              "      <td>0.0</td>\n",
              "      <td>0.0</td>\n",
              "      <td>0.0</td>\n",
              "      <td>0.0</td>\n",
              "      <td>0.0</td>\n",
              "      <td>0.0</td>\n",
              "      <td>0.0</td>\n",
              "      <td>730.0</td>\n",
              "    </tr>\n",
              "    <tr>\n",
              "      <th>4</th>\n",
              "      <td>C1470</td>\n",
              "      <td>696.0</td>\n",
              "      <td>14.0</td>\n",
              "      <td>4.0</td>\n",
              "      <td>645.0</td>\n",
              "      <td>0.0</td>\n",
              "      <td>2.0</td>\n",
              "      <td>254.0</td>\n",
              "      <td>246.0</td>\n",
              "      <td>0.0</td>\n",
              "      <td>...</td>\n",
              "      <td>0.0</td>\n",
              "      <td>0.0</td>\n",
              "      <td>0.0</td>\n",
              "      <td>0.0</td>\n",
              "      <td>0.0</td>\n",
              "      <td>0.0</td>\n",
              "      <td>0.0</td>\n",
              "      <td>0.0</td>\n",
              "      <td>0.0</td>\n",
              "      <td>553.0</td>\n",
              "    </tr>\n",
              "    <tr>\n",
              "      <th>...</th>\n",
              "      <td>...</td>\n",
              "      <td>...</td>\n",
              "      <td>...</td>\n",
              "      <td>...</td>\n",
              "      <td>...</td>\n",
              "      <td>...</td>\n",
              "      <td>...</td>\n",
              "      <td>...</td>\n",
              "      <td>...</td>\n",
              "      <td>...</td>\n",
              "      <td>...</td>\n",
              "      <td>...</td>\n",
              "      <td>...</td>\n",
              "      <td>...</td>\n",
              "      <td>...</td>\n",
              "      <td>...</td>\n",
              "      <td>...</td>\n",
              "      <td>...</td>\n",
              "      <td>...</td>\n",
              "      <td>...</td>\n",
              "      <td>...</td>\n",
              "    </tr>\n",
              "    <tr>\n",
              "      <th>418</th>\n",
              "      <td>C2586</td>\n",
              "      <td>90.0</td>\n",
              "      <td>7.0</td>\n",
              "      <td>9.0</td>\n",
              "      <td>66.0</td>\n",
              "      <td>0.0</td>\n",
              "      <td>3.0</td>\n",
              "      <td>36.0</td>\n",
              "      <td>0.0</td>\n",
              "      <td>0.0</td>\n",
              "      <td>...</td>\n",
              "      <td>42.0</td>\n",
              "      <td>0.0</td>\n",
              "      <td>12.0</td>\n",
              "      <td>0.0</td>\n",
              "      <td>0.0</td>\n",
              "      <td>0.0</td>\n",
              "      <td>0.0</td>\n",
              "      <td>0.0</td>\n",
              "      <td>0.0</td>\n",
              "      <td>57.0</td>\n",
              "    </tr>\n",
              "    <tr>\n",
              "      <th>419</th>\n",
              "      <td>C2035</td>\n",
              "      <td>492.0</td>\n",
              "      <td>24.0</td>\n",
              "      <td>5.0</td>\n",
              "      <td>521.0</td>\n",
              "      <td>0.0</td>\n",
              "      <td>1.0</td>\n",
              "      <td>156.0</td>\n",
              "      <td>0.0</td>\n",
              "      <td>0.0</td>\n",
              "      <td>...</td>\n",
              "      <td>156.0</td>\n",
              "      <td>0.0</td>\n",
              "      <td>0.0</td>\n",
              "      <td>0.0</td>\n",
              "      <td>0.0</td>\n",
              "      <td>0.0</td>\n",
              "      <td>0.0</td>\n",
              "      <td>0.0</td>\n",
              "      <td>0.0</td>\n",
              "      <td>246.0</td>\n",
              "    </tr>\n",
              "    <tr>\n",
              "      <th>420</th>\n",
              "      <td>C2020</td>\n",
              "      <td>40.0</td>\n",
              "      <td>7.0</td>\n",
              "      <td>8.0</td>\n",
              "      <td>25.0</td>\n",
              "      <td>1.0</td>\n",
              "      <td>2.0</td>\n",
              "      <td>15.0</td>\n",
              "      <td>0.0</td>\n",
              "      <td>0.0</td>\n",
              "      <td>...</td>\n",
              "      <td>5.0</td>\n",
              "      <td>0.0</td>\n",
              "      <td>20.0</td>\n",
              "      <td>0.0</td>\n",
              "      <td>0.0</td>\n",
              "      <td>0.0</td>\n",
              "      <td>0.0</td>\n",
              "      <td>0.0</td>\n",
              "      <td>0.0</td>\n",
              "      <td>19.0</td>\n",
              "    </tr>\n",
              "    <tr>\n",
              "      <th>421</th>\n",
              "      <td>C2437</td>\n",
              "      <td>90.0</td>\n",
              "      <td>12.0</td>\n",
              "      <td>11.0</td>\n",
              "      <td>30.0</td>\n",
              "      <td>0.0</td>\n",
              "      <td>1.0</td>\n",
              "      <td>0.0</td>\n",
              "      <td>0.0</td>\n",
              "      <td>0.0</td>\n",
              "      <td>...</td>\n",
              "      <td>0.0</td>\n",
              "      <td>0.0</td>\n",
              "      <td>0.0</td>\n",
              "      <td>90.0</td>\n",
              "      <td>0.0</td>\n",
              "      <td>0.0</td>\n",
              "      <td>0.0</td>\n",
              "      <td>0.0</td>\n",
              "      <td>0.0</td>\n",
              "      <td>16.0</td>\n",
              "    </tr>\n",
              "    <tr>\n",
              "      <th>422</th>\n",
              "      <td>C2532</td>\n",
              "      <td>239.0</td>\n",
              "      <td>7.0</td>\n",
              "      <td>5.0</td>\n",
              "      <td>166.0</td>\n",
              "      <td>0.0</td>\n",
              "      <td>1.0</td>\n",
              "      <td>0.0</td>\n",
              "      <td>201.0</td>\n",
              "      <td>0.0</td>\n",
              "      <td>...</td>\n",
              "      <td>0.0</td>\n",
              "      <td>0.0</td>\n",
              "      <td>0.0</td>\n",
              "      <td>0.0</td>\n",
              "      <td>0.0</td>\n",
              "      <td>0.0</td>\n",
              "      <td>0.0</td>\n",
              "      <td>0.0</td>\n",
              "      <td>0.0</td>\n",
              "      <td>146.0</td>\n",
              "    </tr>\n",
              "  </tbody>\n",
              "</table>\n",
              "<p>423 rows × 23 columns</p>\n",
              "</div>\n",
              "      <button class=\"colab-df-convert\" onclick=\"convertToInteractive('df-cd3b8851-9a17-412a-83d8-c93cdea0698f')\"\n",
              "              title=\"Convert this dataframe to an interactive table.\"\n",
              "              style=\"display:none;\">\n",
              "        \n",
              "  <svg xmlns=\"http://www.w3.org/2000/svg\" height=\"24px\"viewBox=\"0 0 24 24\"\n",
              "       width=\"24px\">\n",
              "    <path d=\"M0 0h24v24H0V0z\" fill=\"none\"/>\n",
              "    <path d=\"M18.56 5.44l.94 2.06.94-2.06 2.06-.94-2.06-.94-.94-2.06-.94 2.06-2.06.94zm-11 1L8.5 8.5l.94-2.06 2.06-.94-2.06-.94L8.5 2.5l-.94 2.06-2.06.94zm10 10l.94 2.06.94-2.06 2.06-.94-2.06-.94-.94-2.06-.94 2.06-2.06.94z\"/><path d=\"M17.41 7.96l-1.37-1.37c-.4-.4-.92-.59-1.43-.59-.52 0-1.04.2-1.43.59L10.3 9.45l-7.72 7.72c-.78.78-.78 2.05 0 2.83L4 21.41c.39.39.9.59 1.41.59.51 0 1.02-.2 1.41-.59l7.78-7.78 2.81-2.81c.8-.78.8-2.07 0-2.86zM5.41 20L4 18.59l7.72-7.72 1.47 1.35L5.41 20z\"/>\n",
              "  </svg>\n",
              "      </button>\n",
              "      \n",
              "  <style>\n",
              "    .colab-df-container {\n",
              "      display:flex;\n",
              "      flex-wrap:wrap;\n",
              "      gap: 12px;\n",
              "    }\n",
              "\n",
              "    .colab-df-convert {\n",
              "      background-color: #E8F0FE;\n",
              "      border: none;\n",
              "      border-radius: 50%;\n",
              "      cursor: pointer;\n",
              "      display: none;\n",
              "      fill: #1967D2;\n",
              "      height: 32px;\n",
              "      padding: 0 0 0 0;\n",
              "      width: 32px;\n",
              "    }\n",
              "\n",
              "    .colab-df-convert:hover {\n",
              "      background-color: #E2EBFA;\n",
              "      box-shadow: 0px 1px 2px rgba(60, 64, 67, 0.3), 0px 1px 3px 1px rgba(60, 64, 67, 0.15);\n",
              "      fill: #174EA6;\n",
              "    }\n",
              "\n",
              "    [theme=dark] .colab-df-convert {\n",
              "      background-color: #3B4455;\n",
              "      fill: #D2E3FC;\n",
              "    }\n",
              "\n",
              "    [theme=dark] .colab-df-convert:hover {\n",
              "      background-color: #434B5C;\n",
              "      box-shadow: 0px 1px 3px 1px rgba(0, 0, 0, 0.15);\n",
              "      filter: drop-shadow(0px 1px 2px rgba(0, 0, 0, 0.3));\n",
              "      fill: #FFFFFF;\n",
              "    }\n",
              "  </style>\n",
              "\n",
              "      <script>\n",
              "        const buttonEl =\n",
              "          document.querySelector('#df-cd3b8851-9a17-412a-83d8-c93cdea0698f button.colab-df-convert');\n",
              "        buttonEl.style.display =\n",
              "          google.colab.kernel.accessAllowed ? 'block' : 'none';\n",
              "\n",
              "        async function convertToInteractive(key) {\n",
              "          const element = document.querySelector('#df-cd3b8851-9a17-412a-83d8-c93cdea0698f');\n",
              "          const dataTable =\n",
              "            await google.colab.kernel.invokeFunction('convertToInteractive',\n",
              "                                                     [key], {});\n",
              "          if (!dataTable) return;\n",
              "\n",
              "          const docLinkHtml = 'Like what you see? Visit the ' +\n",
              "            '<a target=\"_blank\" href=https://colab.research.google.com/notebooks/data_table.ipynb>data table notebook</a>'\n",
              "            + ' to learn more about interactive tables.';\n",
              "          element.innerHTML = '';\n",
              "          dataTable['output_type'] = 'display_data';\n",
              "          await google.colab.output.renderOutput(dataTable, element);\n",
              "          const docLink = document.createElement('div');\n",
              "          docLink.innerHTML = docLinkHtml;\n",
              "          element.appendChild(docLink);\n",
              "        }\n",
              "      </script>\n",
              "    </div>\n",
              "  </div>\n",
              "  "
            ]
          },
          "metadata": {},
          "execution_count": 75
        }
      ]
    },
    {
      "cell_type": "code",
      "source": [
        "y_train"
      ],
      "metadata": {
        "colab": {
          "base_uri": "https://localhost:8080/"
        },
        "id": "EuJv2dpybANG",
        "outputId": "3efd765d-8025-4438-98fe-27bd8ef62253"
      },
      "execution_count": 74,
      "outputs": [
        {
          "output_type": "execute_result",
          "data": {
            "text/plain": [
              "0      1015.0\n",
              "1       205.0\n",
              "2      1064.0\n",
              "3       730.0\n",
              "4       553.0\n",
              "        ...  \n",
              "418      57.0\n",
              "419     246.0\n",
              "420      19.0\n",
              "421      16.0\n",
              "422     146.0\n",
              "Name: 등록차량수, Length: 423, dtype: float64"
            ]
          },
          "metadata": {},
          "execution_count": 74
        }
      ]
    },
    {
      "cell_type": "code",
      "source": [
        "x_train"
      ],
      "metadata": {
        "colab": {
          "base_uri": "https://localhost:8080/",
          "height": 540
        },
        "id": "MoIjpA9Ra-9B",
        "outputId": "13ee6dfc-5478-4317-9512-8053459c2882"
      },
      "execution_count": 73,
      "outputs": [
        {
          "output_type": "execute_result",
          "data": {
            "text/plain": [
              "       총세대수   공가수    지역  단지내주차면수  지하철   버스  면적_35.0  면적_50.0  면적_55.0  \\\n",
              "0     900.0  38.0   0.0   1425.0  0.0  3.0    149.0    665.0     86.0   \n",
              "1     545.0  17.0   1.0    624.0  0.0  3.0     80.0    132.0      0.0   \n",
              "2    1216.0  13.0   2.0   1285.0  1.0  1.0      0.0    124.0      0.0   \n",
              "3     755.0   6.0   3.0    734.0  1.0  3.0    240.0    303.0    212.0   \n",
              "4     696.0  14.0   4.0    645.0  0.0  2.0    254.0    246.0      0.0   \n",
              "..      ...   ...   ...      ...  ...  ...      ...      ...      ...   \n",
              "418    90.0   7.0   9.0     66.0  0.0  3.0     36.0      0.0      0.0   \n",
              "419   492.0  24.0   5.0    521.0  0.0  1.0    156.0      0.0      0.0   \n",
              "420    40.0   7.0   8.0     25.0  1.0  2.0     15.0      0.0      0.0   \n",
              "421    90.0  12.0  11.0     30.0  0.0  1.0      0.0      0.0      0.0   \n",
              "422   239.0   7.0   5.0    166.0  0.0  1.0      0.0    201.0      0.0   \n",
              "\n",
              "     면적_30.0  ...  면적_40.0  면적_25.0  면적_70.0  면적_15.0  면적_20.0  면적_100.0  \\\n",
              "0        0.0  ...      0.0      0.0      0.0      0.0      0.0       0.0   \n",
              "1      276.0  ...      0.0      0.0      0.0      0.0      0.0       0.0   \n",
              "2      390.0  ...    362.0      0.0      0.0      0.0      0.0       0.0   \n",
              "3        0.0  ...      0.0      0.0      0.0      0.0      0.0       0.0   \n",
              "4        0.0  ...      0.0      0.0      0.0      0.0      0.0       0.0   \n",
              "..       ...  ...      ...      ...      ...      ...      ...       ...   \n",
              "418      0.0  ...      0.0     42.0      0.0     12.0      0.0       0.0   \n",
              "419      0.0  ...      0.0    156.0      0.0      0.0      0.0       0.0   \n",
              "420      0.0  ...      0.0      5.0      0.0     20.0      0.0       0.0   \n",
              "421      0.0  ...      0.0      0.0      0.0      0.0     90.0       0.0   \n",
              "422      0.0  ...      0.0      0.0      0.0      0.0      0.0       0.0   \n",
              "\n",
              "     면적_60.0  면적_75.0  면적_80.0  면적_65.0  \n",
              "0        0.0      0.0      0.0      0.0  \n",
              "1        0.0      0.0      0.0      0.0  \n",
              "2        0.0      0.0      0.0      0.0  \n",
              "3        0.0      0.0      0.0      0.0  \n",
              "4        0.0      0.0      0.0      0.0  \n",
              "..       ...      ...      ...      ...  \n",
              "418      0.0      0.0      0.0      0.0  \n",
              "419      0.0      0.0      0.0      0.0  \n",
              "420      0.0      0.0      0.0      0.0  \n",
              "421      0.0      0.0      0.0      0.0  \n",
              "422      0.0      0.0      0.0      0.0  \n",
              "\n",
              "[423 rows x 21 columns]"
            ],
            "text/html": [
              "\n",
              "  <div id=\"df-e1765575-941c-4106-a0ff-eb6130a93e06\">\n",
              "    <div class=\"colab-df-container\">\n",
              "      <div>\n",
              "<style scoped>\n",
              "    .dataframe tbody tr th:only-of-type {\n",
              "        vertical-align: middle;\n",
              "    }\n",
              "\n",
              "    .dataframe tbody tr th {\n",
              "        vertical-align: top;\n",
              "    }\n",
              "\n",
              "    .dataframe thead th {\n",
              "        text-align: right;\n",
              "    }\n",
              "</style>\n",
              "<table border=\"1\" class=\"dataframe\">\n",
              "  <thead>\n",
              "    <tr style=\"text-align: right;\">\n",
              "      <th></th>\n",
              "      <th>총세대수</th>\n",
              "      <th>공가수</th>\n",
              "      <th>지역</th>\n",
              "      <th>단지내주차면수</th>\n",
              "      <th>지하철</th>\n",
              "      <th>버스</th>\n",
              "      <th>면적_35.0</th>\n",
              "      <th>면적_50.0</th>\n",
              "      <th>면적_55.0</th>\n",
              "      <th>면적_30.0</th>\n",
              "      <th>...</th>\n",
              "      <th>면적_40.0</th>\n",
              "      <th>면적_25.0</th>\n",
              "      <th>면적_70.0</th>\n",
              "      <th>면적_15.0</th>\n",
              "      <th>면적_20.0</th>\n",
              "      <th>면적_100.0</th>\n",
              "      <th>면적_60.0</th>\n",
              "      <th>면적_75.0</th>\n",
              "      <th>면적_80.0</th>\n",
              "      <th>면적_65.0</th>\n",
              "    </tr>\n",
              "  </thead>\n",
              "  <tbody>\n",
              "    <tr>\n",
              "      <th>0</th>\n",
              "      <td>900.0</td>\n",
              "      <td>38.0</td>\n",
              "      <td>0.0</td>\n",
              "      <td>1425.0</td>\n",
              "      <td>0.0</td>\n",
              "      <td>3.0</td>\n",
              "      <td>149.0</td>\n",
              "      <td>665.0</td>\n",
              "      <td>86.0</td>\n",
              "      <td>0.0</td>\n",
              "      <td>...</td>\n",
              "      <td>0.0</td>\n",
              "      <td>0.0</td>\n",
              "      <td>0.0</td>\n",
              "      <td>0.0</td>\n",
              "      <td>0.0</td>\n",
              "      <td>0.0</td>\n",
              "      <td>0.0</td>\n",
              "      <td>0.0</td>\n",
              "      <td>0.0</td>\n",
              "      <td>0.0</td>\n",
              "    </tr>\n",
              "    <tr>\n",
              "      <th>1</th>\n",
              "      <td>545.0</td>\n",
              "      <td>17.0</td>\n",
              "      <td>1.0</td>\n",
              "      <td>624.0</td>\n",
              "      <td>0.0</td>\n",
              "      <td>3.0</td>\n",
              "      <td>80.0</td>\n",
              "      <td>132.0</td>\n",
              "      <td>0.0</td>\n",
              "      <td>276.0</td>\n",
              "      <td>...</td>\n",
              "      <td>0.0</td>\n",
              "      <td>0.0</td>\n",
              "      <td>0.0</td>\n",
              "      <td>0.0</td>\n",
              "      <td>0.0</td>\n",
              "      <td>0.0</td>\n",
              "      <td>0.0</td>\n",
              "      <td>0.0</td>\n",
              "      <td>0.0</td>\n",
              "      <td>0.0</td>\n",
              "    </tr>\n",
              "    <tr>\n",
              "      <th>2</th>\n",
              "      <td>1216.0</td>\n",
              "      <td>13.0</td>\n",
              "      <td>2.0</td>\n",
              "      <td>1285.0</td>\n",
              "      <td>1.0</td>\n",
              "      <td>1.0</td>\n",
              "      <td>0.0</td>\n",
              "      <td>124.0</td>\n",
              "      <td>0.0</td>\n",
              "      <td>390.0</td>\n",
              "      <td>...</td>\n",
              "      <td>362.0</td>\n",
              "      <td>0.0</td>\n",
              "      <td>0.0</td>\n",
              "      <td>0.0</td>\n",
              "      <td>0.0</td>\n",
              "      <td>0.0</td>\n",
              "      <td>0.0</td>\n",
              "      <td>0.0</td>\n",
              "      <td>0.0</td>\n",
              "      <td>0.0</td>\n",
              "    </tr>\n",
              "    <tr>\n",
              "      <th>3</th>\n",
              "      <td>755.0</td>\n",
              "      <td>6.0</td>\n",
              "      <td>3.0</td>\n",
              "      <td>734.0</td>\n",
              "      <td>1.0</td>\n",
              "      <td>3.0</td>\n",
              "      <td>240.0</td>\n",
              "      <td>303.0</td>\n",
              "      <td>212.0</td>\n",
              "      <td>0.0</td>\n",
              "      <td>...</td>\n",
              "      <td>0.0</td>\n",
              "      <td>0.0</td>\n",
              "      <td>0.0</td>\n",
              "      <td>0.0</td>\n",
              "      <td>0.0</td>\n",
              "      <td>0.0</td>\n",
              "      <td>0.0</td>\n",
              "      <td>0.0</td>\n",
              "      <td>0.0</td>\n",
              "      <td>0.0</td>\n",
              "    </tr>\n",
              "    <tr>\n",
              "      <th>4</th>\n",
              "      <td>696.0</td>\n",
              "      <td>14.0</td>\n",
              "      <td>4.0</td>\n",
              "      <td>645.0</td>\n",
              "      <td>0.0</td>\n",
              "      <td>2.0</td>\n",
              "      <td>254.0</td>\n",
              "      <td>246.0</td>\n",
              "      <td>0.0</td>\n",
              "      <td>0.0</td>\n",
              "      <td>...</td>\n",
              "      <td>0.0</td>\n",
              "      <td>0.0</td>\n",
              "      <td>0.0</td>\n",
              "      <td>0.0</td>\n",
              "      <td>0.0</td>\n",
              "      <td>0.0</td>\n",
              "      <td>0.0</td>\n",
              "      <td>0.0</td>\n",
              "      <td>0.0</td>\n",
              "      <td>0.0</td>\n",
              "    </tr>\n",
              "    <tr>\n",
              "      <th>...</th>\n",
              "      <td>...</td>\n",
              "      <td>...</td>\n",
              "      <td>...</td>\n",
              "      <td>...</td>\n",
              "      <td>...</td>\n",
              "      <td>...</td>\n",
              "      <td>...</td>\n",
              "      <td>...</td>\n",
              "      <td>...</td>\n",
              "      <td>...</td>\n",
              "      <td>...</td>\n",
              "      <td>...</td>\n",
              "      <td>...</td>\n",
              "      <td>...</td>\n",
              "      <td>...</td>\n",
              "      <td>...</td>\n",
              "      <td>...</td>\n",
              "      <td>...</td>\n",
              "      <td>...</td>\n",
              "      <td>...</td>\n",
              "      <td>...</td>\n",
              "    </tr>\n",
              "    <tr>\n",
              "      <th>418</th>\n",
              "      <td>90.0</td>\n",
              "      <td>7.0</td>\n",
              "      <td>9.0</td>\n",
              "      <td>66.0</td>\n",
              "      <td>0.0</td>\n",
              "      <td>3.0</td>\n",
              "      <td>36.0</td>\n",
              "      <td>0.0</td>\n",
              "      <td>0.0</td>\n",
              "      <td>0.0</td>\n",
              "      <td>...</td>\n",
              "      <td>0.0</td>\n",
              "      <td>42.0</td>\n",
              "      <td>0.0</td>\n",
              "      <td>12.0</td>\n",
              "      <td>0.0</td>\n",
              "      <td>0.0</td>\n",
              "      <td>0.0</td>\n",
              "      <td>0.0</td>\n",
              "      <td>0.0</td>\n",
              "      <td>0.0</td>\n",
              "    </tr>\n",
              "    <tr>\n",
              "      <th>419</th>\n",
              "      <td>492.0</td>\n",
              "      <td>24.0</td>\n",
              "      <td>5.0</td>\n",
              "      <td>521.0</td>\n",
              "      <td>0.0</td>\n",
              "      <td>1.0</td>\n",
              "      <td>156.0</td>\n",
              "      <td>0.0</td>\n",
              "      <td>0.0</td>\n",
              "      <td>0.0</td>\n",
              "      <td>...</td>\n",
              "      <td>0.0</td>\n",
              "      <td>156.0</td>\n",
              "      <td>0.0</td>\n",
              "      <td>0.0</td>\n",
              "      <td>0.0</td>\n",
              "      <td>0.0</td>\n",
              "      <td>0.0</td>\n",
              "      <td>0.0</td>\n",
              "      <td>0.0</td>\n",
              "      <td>0.0</td>\n",
              "    </tr>\n",
              "    <tr>\n",
              "      <th>420</th>\n",
              "      <td>40.0</td>\n",
              "      <td>7.0</td>\n",
              "      <td>8.0</td>\n",
              "      <td>25.0</td>\n",
              "      <td>1.0</td>\n",
              "      <td>2.0</td>\n",
              "      <td>15.0</td>\n",
              "      <td>0.0</td>\n",
              "      <td>0.0</td>\n",
              "      <td>0.0</td>\n",
              "      <td>...</td>\n",
              "      <td>0.0</td>\n",
              "      <td>5.0</td>\n",
              "      <td>0.0</td>\n",
              "      <td>20.0</td>\n",
              "      <td>0.0</td>\n",
              "      <td>0.0</td>\n",
              "      <td>0.0</td>\n",
              "      <td>0.0</td>\n",
              "      <td>0.0</td>\n",
              "      <td>0.0</td>\n",
              "    </tr>\n",
              "    <tr>\n",
              "      <th>421</th>\n",
              "      <td>90.0</td>\n",
              "      <td>12.0</td>\n",
              "      <td>11.0</td>\n",
              "      <td>30.0</td>\n",
              "      <td>0.0</td>\n",
              "      <td>1.0</td>\n",
              "      <td>0.0</td>\n",
              "      <td>0.0</td>\n",
              "      <td>0.0</td>\n",
              "      <td>0.0</td>\n",
              "      <td>...</td>\n",
              "      <td>0.0</td>\n",
              "      <td>0.0</td>\n",
              "      <td>0.0</td>\n",
              "      <td>0.0</td>\n",
              "      <td>90.0</td>\n",
              "      <td>0.0</td>\n",
              "      <td>0.0</td>\n",
              "      <td>0.0</td>\n",
              "      <td>0.0</td>\n",
              "      <td>0.0</td>\n",
              "    </tr>\n",
              "    <tr>\n",
              "      <th>422</th>\n",
              "      <td>239.0</td>\n",
              "      <td>7.0</td>\n",
              "      <td>5.0</td>\n",
              "      <td>166.0</td>\n",
              "      <td>0.0</td>\n",
              "      <td>1.0</td>\n",
              "      <td>0.0</td>\n",
              "      <td>201.0</td>\n",
              "      <td>0.0</td>\n",
              "      <td>0.0</td>\n",
              "      <td>...</td>\n",
              "      <td>0.0</td>\n",
              "      <td>0.0</td>\n",
              "      <td>0.0</td>\n",
              "      <td>0.0</td>\n",
              "      <td>0.0</td>\n",
              "      <td>0.0</td>\n",
              "      <td>0.0</td>\n",
              "      <td>0.0</td>\n",
              "      <td>0.0</td>\n",
              "      <td>0.0</td>\n",
              "    </tr>\n",
              "  </tbody>\n",
              "</table>\n",
              "<p>423 rows × 21 columns</p>\n",
              "</div>\n",
              "      <button class=\"colab-df-convert\" onclick=\"convertToInteractive('df-e1765575-941c-4106-a0ff-eb6130a93e06')\"\n",
              "              title=\"Convert this dataframe to an interactive table.\"\n",
              "              style=\"display:none;\">\n",
              "        \n",
              "  <svg xmlns=\"http://www.w3.org/2000/svg\" height=\"24px\"viewBox=\"0 0 24 24\"\n",
              "       width=\"24px\">\n",
              "    <path d=\"M0 0h24v24H0V0z\" fill=\"none\"/>\n",
              "    <path d=\"M18.56 5.44l.94 2.06.94-2.06 2.06-.94-2.06-.94-.94-2.06-.94 2.06-2.06.94zm-11 1L8.5 8.5l.94-2.06 2.06-.94-2.06-.94L8.5 2.5l-.94 2.06-2.06.94zm10 10l.94 2.06.94-2.06 2.06-.94-2.06-.94-.94-2.06-.94 2.06-2.06.94z\"/><path d=\"M17.41 7.96l-1.37-1.37c-.4-.4-.92-.59-1.43-.59-.52 0-1.04.2-1.43.59L10.3 9.45l-7.72 7.72c-.78.78-.78 2.05 0 2.83L4 21.41c.39.39.9.59 1.41.59.51 0 1.02-.2 1.41-.59l7.78-7.78 2.81-2.81c.8-.78.8-2.07 0-2.86zM5.41 20L4 18.59l7.72-7.72 1.47 1.35L5.41 20z\"/>\n",
              "  </svg>\n",
              "      </button>\n",
              "      \n",
              "  <style>\n",
              "    .colab-df-container {\n",
              "      display:flex;\n",
              "      flex-wrap:wrap;\n",
              "      gap: 12px;\n",
              "    }\n",
              "\n",
              "    .colab-df-convert {\n",
              "      background-color: #E8F0FE;\n",
              "      border: none;\n",
              "      border-radius: 50%;\n",
              "      cursor: pointer;\n",
              "      display: none;\n",
              "      fill: #1967D2;\n",
              "      height: 32px;\n",
              "      padding: 0 0 0 0;\n",
              "      width: 32px;\n",
              "    }\n",
              "\n",
              "    .colab-df-convert:hover {\n",
              "      background-color: #E2EBFA;\n",
              "      box-shadow: 0px 1px 2px rgba(60, 64, 67, 0.3), 0px 1px 3px 1px rgba(60, 64, 67, 0.15);\n",
              "      fill: #174EA6;\n",
              "    }\n",
              "\n",
              "    [theme=dark] .colab-df-convert {\n",
              "      background-color: #3B4455;\n",
              "      fill: #D2E3FC;\n",
              "    }\n",
              "\n",
              "    [theme=dark] .colab-df-convert:hover {\n",
              "      background-color: #434B5C;\n",
              "      box-shadow: 0px 1px 3px 1px rgba(0, 0, 0, 0.15);\n",
              "      filter: drop-shadow(0px 1px 2px rgba(0, 0, 0, 0.3));\n",
              "      fill: #FFFFFF;\n",
              "    }\n",
              "  </style>\n",
              "\n",
              "      <script>\n",
              "        const buttonEl =\n",
              "          document.querySelector('#df-e1765575-941c-4106-a0ff-eb6130a93e06 button.colab-df-convert');\n",
              "        buttonEl.style.display =\n",
              "          google.colab.kernel.accessAllowed ? 'block' : 'none';\n",
              "\n",
              "        async function convertToInteractive(key) {\n",
              "          const element = document.querySelector('#df-e1765575-941c-4106-a0ff-eb6130a93e06');\n",
              "          const dataTable =\n",
              "            await google.colab.kernel.invokeFunction('convertToInteractive',\n",
              "                                                     [key], {});\n",
              "          if (!dataTable) return;\n",
              "\n",
              "          const docLinkHtml = 'Like what you see? Visit the ' +\n",
              "            '<a target=\"_blank\" href=https://colab.research.google.com/notebooks/data_table.ipynb>data table notebook</a>'\n",
              "            + ' to learn more about interactive tables.';\n",
              "          element.innerHTML = '';\n",
              "          dataTable['output_type'] = 'display_data';\n",
              "          await google.colab.output.renderOutput(dataTable, element);\n",
              "          const docLink = document.createElement('div');\n",
              "          docLink.innerHTML = docLinkHtml;\n",
              "          element.appendChild(docLink);\n",
              "        }\n",
              "      </script>\n",
              "    </div>\n",
              "  </div>\n",
              "  "
            ]
          },
          "metadata": {},
          "execution_count": 73
        }
      ]
    },
    {
      "cell_type": "code",
      "execution_count": 76,
      "metadata": {
        "id": "BQtoXk7mUUKU"
      },
      "outputs": [],
      "source": [
        "model = RandomForestRegressor(n_jobs=-1, random_state=42) #모델은 RandomForest이다. 다양한 모델 시도하는 게 좋다. 아래는 랜덤포레스트 파라미터를 정리해놨다. 다양한 파라미터를 조절해 시도하면 좋다."
      ]
    },
    {
      "cell_type": "markdown",
      "source": [
        "![image.png](data:image/png;base64,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)"
      ],
      "metadata": {
        "id": "0J-_nbiSbZie"
      }
    },
    {
      "cell_type": "code",
      "execution_count": 77,
      "metadata": {
        "colab": {
          "base_uri": "https://localhost:8080/"
        },
        "id": "4prhLzQsUUKU",
        "outputId": "4332ea2a-ea23-482c-ba68-1b32c4a5f43e"
      },
      "outputs": [
        {
          "output_type": "execute_result",
          "data": {
            "text/plain": [
              "RandomForestRegressor(n_jobs=-1, random_state=42)"
            ]
          },
          "metadata": {},
          "execution_count": 77
        }
      ],
      "source": [
        "model.fit(x_train, y_train) #시간이 거의 안든다."
      ]
    },
    {
      "cell_type": "markdown",
      "metadata": {
        "id": "kDhFF4kjUUKV"
      },
      "source": [
        "## 추론 및 제출"
      ]
    },
    {
      "cell_type": "code",
      "execution_count": null,
      "metadata": {
        "id": "orirT3_FUUKV"
      },
      "outputs": [],
      "source": [
        "pred = model.predict(x_test) #이제 test, 즉 예측을 한다"
      ]
    },
    {
      "cell_type": "code",
      "execution_count": null,
      "metadata": {
        "id": "wXlwSFqZUUKV"
      },
      "outputs": [],
      "source": [
        "submission['num'] = pred #위에서 가져온 submission csv 파일 num열에 예측값을 넣는다."
      ]
    },
    {
      "cell_type": "code",
      "execution_count": null,
      "metadata": {
        "id": "As3fDtjmUUKV"
      },
      "outputs": [],
      "source": [
        "submission.to_csv('baseline.csv', index=False) #dataframe인 submission 변수를 csv로 바꾼다.(이름은 'baseline.csv')"
      ]
    }
  ],
  "metadata": {
    "kernelspec": {
      "display_name": "eunil",
      "language": "python",
      "name": "eunil"
    },
    "language_info": {
      "codemirror_mode": {
        "name": "ipython",
        "version": 3
      },
      "file_extension": ".py",
      "mimetype": "text/x-python",
      "name": "python",
      "nbconvert_exporter": "python",
      "pygments_lexer": "ipython3",
      "version": "3.7.0"
    },
    "colab": {
      "provenance": []
    },
    "accelerator": "GPU"
  },
  "nbformat": 4,
  "nbformat_minor": 0
}
